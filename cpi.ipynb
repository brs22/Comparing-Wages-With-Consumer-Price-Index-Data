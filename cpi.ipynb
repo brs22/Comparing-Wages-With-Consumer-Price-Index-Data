{
 "cells": [
  {
   "cell_type": "code",
   "execution_count": 31,
   "metadata": {},
   "outputs": [],
   "source": [
    "#install the library on your host machine using: pip install bls (in conda if conda is interpreter)\n",
    "#import libraries\n",
    "import pandas as pd\n",
    "import matplotlib as plt\n",
    "import numpy as np\n",
    "import bls"
   ]
  },
  {
   "cell_type": "code",
   "execution_count": null,
   "metadata": {},
   "outputs": [],
   "source": [
    "#wages = bls.get_series('CIU2020000000000A') #get wagese data\n",
    "#wages.to_csv('wages_data.csv') #write it to csv file\n",
    "wages_data = pd.read_csv('wages_data.csv')\n",
    "wages_data.columns = 'Date', 'Wages'\n",
    "wages_data.head()\n",
    "\n",
    "#wages show the annual average growth in %..\n",
    "#e.g. 2013Q1 1.7% means if the trend continued it would be annul average growth"
   ]
  },
  {
   "cell_type": "code",
   "execution_count": null,
   "metadata": {},
   "outputs": [],
   "source": [
    "#cpi = bls.get_series('CUUR0000SA0') #get cpi data\n",
    "#cpi.to_csv('cpi_data.csv') #write it to csv\n",
    "cpi_data = pd.read_csv('cpi_data.csv')\n",
    "cpi_data.columns = 'Date', 'CPI'\n",
    "cpi_data.head()"
   ]
  },
  {
   "cell_type": "code",
   "execution_count": null,
   "metadata": {},
   "outputs": [],
   "source": [
    "#clean and manipulate data as wages are monthly and cpi quarterly measured\n",
    "#along with wages shown in percentages, while the cpi is points\n",
    "\n",
    "cpi_data['Date'] = cpi_data['Date'].str.replace('-03', 'Q1') #replace each instance -03 in Date colum with Q1\n",
    "cpi_data['Date'] = cpi_data['Date'].str.replace('-06', 'Q2')\n",
    "cpi_data['Date'] = cpi_data['Date'].str.replace('-09', 'Q3')\n",
    "cpi_data['Date'] = cpi_data['Date'].str.replace('-12', 'Q4')\n",
    "\n",
    "cpi_data = cpi_data[cpi_data.Date.str.contains('-') == False] #delete other rows containing '-'\n",
    "\n",
    "cpi_data.head()"
   ]
  },
  {
   "cell_type": "code",
   "execution_count": null,
   "metadata": {},
   "outputs": [],
   "source": [
    "##wages - divide each quarterly growth rate by four. This would be gross simplification of the process\n",
    "# taking presumtion that the real changes to wages during those three months were exactly one quarter of the reported year-over-year rate. \n",
    "#determine baseline for calculation, that is 1st cpi value from the dataframe\n",
    "\n",
    "#wagesam = bls.get_series('CIU2020000000000A') #read rata\n",
    "#wagesam.to_csv('bls_wages_data.csv') #write to csv\n",
    "df = pd.read_csv('bls_wages_data.csv') #read csv and save to dataframe\n",
    "df.columns = 'Date','Wages' #rename columns\n",
    "\n",
    "newdf = df \n",
    "newnum = pd.read_csv('cpi_data.csv')\n",
    "newnum= newnum['CUUR0000SA0'][0] #assign starting CPI as baseline value\n",
    "def process_wages(x):\n",
    "    global newnum\n",
    "    if type(x) is str:\n",
    "        return x\n",
    "    elif x:\n",
    "        newnum = (x / 400) * newnum + newnum #convert wages from percentages to points and multiply by baseline to get approximative CPI\n",
    "        return newnum\n",
    "    else:\n",
    "        return\n",
    "newwages = newdf.applymap(process_wages)\n",
    "\n",
    "newwages.head()"
   ]
  },
  {
   "cell_type": "code",
   "execution_count": null,
   "metadata": {},
   "outputs": [],
   "source": [
    "#merge the data\n",
    "merged_data = pd.merge(cpi_data, newwages, on='Date')\n",
    "merged_data"
   ]
  },
  {
   "cell_type": "code",
   "execution_count": null,
   "metadata": {},
   "outputs": [],
   "source": [
    "#plot the data\n",
    "ax = merged_data.plot(kind='bar', figsize=(20, 7))\n",
    "ax.set_xticklabels(merged_data.Date, rotation=45)\n",
    "ax.set_ylabel('CPI vs. Wages and salaries - 12-month change')\n",
    "ax.set_xlabel('Dates')"
   ]
  },
  {
   "cell_type": "code",
   "execution_count": null,
   "metadata": {},
   "outputs": [],
   "source": [
    "ax = merged_data.plot(kind='line', figsize=(20, 7))\n",
    "ax.set_ylabel('CPI vs. Wages and salaries - 12-month change')\n",
    "ax.set_xlabel('Dates')\n",
    "ax.grid()"
   ]
  },
  {
   "cell_type": "code",
   "execution_count": null,
   "metadata": {},
   "outputs": [],
   "source": [
    "#alternative plots\n",
    "import plotly.graph_objects as go\n",
    "\n",
    "fig = go.Figure(data=go.Scatter(x=merged_data['Date'], \n",
    "                                y=merged_data['CPI'], \n",
    "                                name = 'CPI'\n",
    "                                ))\n",
    "fig.add_trace(go.Scatter(x=merged_data['Date'], y=merged_data['Wages'], mode='lines', name='Approximated CPI'))\n",
    "fig.update_layout(title='Consumer Price Index vs Approximated Consumer Prices Index based on Monthly Wages',\n",
    "                   xaxis_title='Quarter',\n",
    "                   yaxis_title='CPI / Approximated CPI')\n",
    "fig.show()"
   ]
  },
  {
   "cell_type": "code",
   "execution_count": 32,
   "metadata": {},
   "outputs": [
    {
     "data": {
      "text/html": [
       "<div>\n",
       "<style scoped>\n",
       "    .dataframe tbody tr th:only-of-type {\n",
       "        vertical-align: middle;\n",
       "    }\n",
       "\n",
       "    .dataframe tbody tr th {\n",
       "        vertical-align: top;\n",
       "    }\n",
       "\n",
       "    .dataframe thead th {\n",
       "        text-align: right;\n",
       "    }\n",
       "</style>\n",
       "<table border=\"1\" class=\"dataframe\">\n",
       "  <thead>\n",
       "    <tr style=\"text-align: right;\">\n",
       "      <th></th>\n",
       "      <th>Date</th>\n",
       "      <th>Open</th>\n",
       "      <th>High</th>\n",
       "      <th>Low</th>\n",
       "      <th>Close</th>\n",
       "      <th>Volume</th>\n",
       "      <th>Dividends</th>\n",
       "      <th>Stock Splits</th>\n",
       "    </tr>\n",
       "  </thead>\n",
       "  <tbody>\n",
       "    <tr>\n",
       "      <th>0</th>\n",
       "      <td>2012-08-17</td>\n",
       "      <td>1415.839966</td>\n",
       "      <td>1418.709961</td>\n",
       "      <td>1414.670044</td>\n",
       "      <td>1418.160034</td>\n",
       "      <td>2922990000</td>\n",
       "      <td>0</td>\n",
       "      <td>0</td>\n",
       "    </tr>\n",
       "    <tr>\n",
       "      <th>1</th>\n",
       "      <td>2012-08-20</td>\n",
       "      <td>1417.849976</td>\n",
       "      <td>1418.130005</td>\n",
       "      <td>1412.119995</td>\n",
       "      <td>1418.130005</td>\n",
       "      <td>2766320000</td>\n",
       "      <td>0</td>\n",
       "      <td>0</td>\n",
       "    </tr>\n",
       "    <tr>\n",
       "      <th>2</th>\n",
       "      <td>2012-08-21</td>\n",
       "      <td>1418.130005</td>\n",
       "      <td>1426.680054</td>\n",
       "      <td>1410.859985</td>\n",
       "      <td>1413.170044</td>\n",
       "      <td>3282950000</td>\n",
       "      <td>0</td>\n",
       "      <td>0</td>\n",
       "    </tr>\n",
       "    <tr>\n",
       "      <th>3</th>\n",
       "      <td>2012-08-22</td>\n",
       "      <td>1413.089966</td>\n",
       "      <td>1416.119995</td>\n",
       "      <td>1406.780029</td>\n",
       "      <td>1413.489990</td>\n",
       "      <td>3062690000</td>\n",
       "      <td>0</td>\n",
       "      <td>0</td>\n",
       "    </tr>\n",
       "    <tr>\n",
       "      <th>4</th>\n",
       "      <td>2012-08-23</td>\n",
       "      <td>1413.489990</td>\n",
       "      <td>1413.489990</td>\n",
       "      <td>1400.500000</td>\n",
       "      <td>1402.079956</td>\n",
       "      <td>3008240000</td>\n",
       "      <td>0</td>\n",
       "      <td>0</td>\n",
       "    </tr>\n",
       "  </tbody>\n",
       "</table>\n",
       "</div>"
      ],
      "text/plain": [
       "         Date         Open         High          Low        Close      Volume  \\\n",
       "0  2012-08-17  1415.839966  1418.709961  1414.670044  1418.160034  2922990000   \n",
       "1  2012-08-20  1417.849976  1418.130005  1412.119995  1418.130005  2766320000   \n",
       "2  2012-08-21  1418.130005  1426.680054  1410.859985  1413.170044  3282950000   \n",
       "3  2012-08-22  1413.089966  1416.119995  1406.780029  1413.489990  3062690000   \n",
       "4  2012-08-23  1413.489990  1413.489990  1400.500000  1402.079956  3008240000   \n",
       "\n",
       "   Dividends  Stock Splits  \n",
       "0          0             0  \n",
       "1          0             0  \n",
       "2          0             0  \n",
       "3          0             0  \n",
       "4          0             0  "
      ]
     },
     "execution_count": 32,
     "metadata": {},
     "output_type": "execute_result"
    }
   ],
   "source": [
    "#Incorporate S&P 500 quotes\n",
    "import yfinance as yf\n",
    "#data = yf.Ticker(\"^GSPC\").history(period='10y')\n",
    "#data.to_csv('new_s_p_500.csv') #write to csv\n",
    "sp = pd.read_csv('new_s_p_500.csv')\n",
    "sp.head()"
   ]
  },
  {
   "cell_type": "code",
   "execution_count": 33,
   "metadata": {},
   "outputs": [],
   "source": [
    "#set Date column to use the datetime64 format. \n",
    "#use strftime to organize the dates so the year comes first, followed by month and day\n",
    "#set the dash character - as the delimiter.\n",
    "\n",
    "sp['Date'] = sp['Date'].astype('datetime64[ns]')\n",
    "sp['Date'] = sp['Date'].dt.strftime('%Y-%m-%d')"
   ]
  },
  {
   "cell_type": "code",
   "execution_count": 34,
   "metadata": {},
   "outputs": [],
   "source": [
    "sp = sp[sp.Date.str.contains('2012-') == False] #delete rows with 2012"
   ]
  },
  {
   "cell_type": "code",
   "execution_count": null,
   "metadata": {},
   "outputs": [],
   "source": [
    "sp['Date'] = sp['Date'].str.replace('-03-30', 'Q1')\n",
    "sp['Date'] = sp['Date'].str.replace('-06-30', 'Q2')\n",
    "sp['Date'] = sp['Date'].str.replace('-09-30', 'Q3')\n",
    "sp['Date'] = sp['Date'].str.replace('-12-31', 'Q4')\n",
    "\n",
    "sp = sp[(sp.Date.str.contains(\"Q\") == True)] #delete rows without 'Q'"
   ]
  },
  {
   "cell_type": "code",
   "execution_count": null,
   "metadata": {},
   "outputs": [],
   "source": [
    "sp1 = sp[['Date', 'Close']]\n",
    "sp1.head()"
   ]
  },
  {
   "cell_type": "code",
   "execution_count": null,
   "metadata": {},
   "outputs": [],
   "source": [
    "#new dataframe made up of each of our three existing sets\n",
    "from functools import reduce\n",
    "dfs = [cpi_data, newwages, sp1]\n",
    "\n",
    "df_triple = reduce(lambda left,right: pd.merge(left,right,on='Date'), dfs)"
   ]
  },
  {
   "cell_type": "code",
   "execution_count": null,
   "metadata": {},
   "outputs": [],
   "source": [
    "ax = df_triple.plot(kind='line', figsize=(20, 7))\n",
    "ax.set_ylabel('S&P, CPI, and Wages')\n",
    "ax.set_xlabel('Dates')\n",
    "ax.grid()"
   ]
  },
  {
   "cell_type": "code",
   "execution_count": null,
   "metadata": {},
   "outputs": [],
   "source": [
    "ax = sp1.plot(kind='bar', figsize=(20, 7))\n",
    "ax.set_xticklabels(sp1.Date, rotation=45)\n",
    "ax.set_ylabel('S&P Index quotes by month')\n",
    "ax.set_xlabel('Dates')"
   ]
  },
  {
   "cell_type": "code",
   "execution_count": null,
   "metadata": {},
   "outputs": [],
   "source": [
    "ax = merged_data.plot(kind='line', figsize=(20, 7))\n",
    "ax.set_xticklabels(merged_data.Date, rotation=45)\n",
    "ax.set_ylabel('CPI vs. Wages and salaries - 12-month change')\n",
    "ax.set_xlabel('Dates')"
   ]
  },
  {
   "cell_type": "code",
   "execution_count": null,
   "metadata": {},
   "outputs": [],
   "source": [
    "#alternative plots\n",
    "from plotly.subplots import make_subplots\n",
    "import plotly.graph_objects as go\n",
    "\n",
    "fig = make_subplots(rows=2, cols=1)\n",
    "\n",
    "fig.append_trace(go.Scatter(x=merged_data['Date'], \n",
    "                                y=merged_data['CPI'], \n",
    "                                name = 'CPI'), row=1, col=1)\n",
    "\n",
    "fig.add_trace(go.Scatter(x=merged_data['Date'], \n",
    "                         y=merged_data['Wages'], \n",
    "                         mode='lines', \n",
    "                         name='Approximated CPI'), row=1, col=1)\n",
    "\n",
    "fig.append_trace(go.Scatter(x=sp1['Date'], \n",
    "                            y=sp1['Close'], \n",
    "                            mode='lines', \n",
    "                            name='S&P500'), row=2, col=1)\n",
    "\n",
    "fig.update_layout(title='Consumer Price Index vs Wages vs S&P500', \n",
    "                  xaxis_title='Quarter', \n",
    "                  yaxis_title='CPI / Approximated CPI (Wages) / S&P500')\n",
    "fig.show()\n"
   ]
  },
  {
   "cell_type": "code",
   "execution_count": null,
   "metadata": {},
   "outputs": [],
   "source": [
    "#Calculate rate of increase for both CPI and S&P (CAGR - Compound Annual Growth Rate)\n",
    "\n",
    "#first = 1681.550049 #first price\n",
    "#last = 3785.379883  #last price\n",
    "first = sp1['Close'].iat[0]\n",
    "last = sp1['Close'].iat[-1]\n",
    "periods = 10\n",
    "    \n",
    "def CAGR(first, last, periods):\n",
    "    return (last/first)**(1/periods)-1\n",
    "\n",
    "print ('The S&P had a CAGR of {:.2%} '.format(CAGR(first, last, periods)))\n",
    "\n",
    "#The S&P had a CAGR of 8.45% "
   ]
  },
  {
   "cell_type": "code",
   "execution_count": null,
   "metadata": {},
   "outputs": [],
   "source": [
    "#first = 232.773 #first value\n",
    "#last = 296.311  #last value\n",
    "first = merged_data['CPI'].iat[0]\n",
    "last = merged_data['CPI'].iat[-1] \n",
    "periods = 10\n",
    "    \n",
    "def CAGR(first, last, periods):\n",
    "    return (last/first)**(1/periods)-1\n",
    "\n",
    "print ('The Consumer Price Index had a CAGR of {:.2%} '.format(CAGR(first, last, periods)))\n",
    "\n",
    "#The Consumer Price Index had a CAGR of 2.44%"
   ]
  },
  {
   "cell_type": "code",
   "execution_count": null,
   "metadata": {},
   "outputs": [],
   "source": [
    "#first = 178.64\n",
    "#last = 281.31\n",
    "first = merged_data['Wages'].iat[0]\n",
    "last = merged_data['Wages'].iat[-1]\n",
    "periods = 20\n",
    "    \n",
    "def CAGR(first, last, periods):\n",
    "    return (last/first)**(1/periods)-1\n",
    "\n",
    "print ('Wages had a CAGR of {:.2%} '.format(CAGR(first, last, periods)))\n",
    "\n",
    "#Wages had a CAGR of 1.32% "
   ]
  },
  {
   "cell_type": "markdown",
   "metadata": {},
   "source": [
    "So our consumer price index growth rate over the past 10 years was 2.449% and the employment wages rate was 1.32%. While, over the same time, the S&P 500 market index increased at an average annual rate of 8.45%!"
   ]
  }
 ],
 "metadata": {
  "kernelspec": {
   "display_name": "Python 3.9.7 ('base')",
   "language": "python",
   "name": "python3"
  },
  "language_info": {
   "codemirror_mode": {
    "name": "ipython",
    "version": 3
   },
   "file_extension": ".py",
   "mimetype": "text/x-python",
   "name": "python",
   "nbconvert_exporter": "python",
   "pygments_lexer": "ipython3",
   "version": "3.9.7"
  },
  "orig_nbformat": 4,
  "vscode": {
   "interpreter": {
    "hash": "ad2bdc8ecc057115af97d19610ffacc2b4e99fae6737bb82f5d7fb13d2f2c186"
   }
  }
 },
 "nbformat": 4,
 "nbformat_minor": 2
}
