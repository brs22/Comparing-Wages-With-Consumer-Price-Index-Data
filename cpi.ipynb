{
 "cells": [
  {
   "cell_type": "code",
   "execution_count": 54,
   "metadata": {},
   "outputs": [],
   "source": [
    "#install the library on your host machine using: pip install bls (in conda if conda is interpreter)\n",
    "#import libraries\n",
    "import pandas as pd\n",
    "import matplotlib as plt\n",
    "import numpy as np\n",
    "import bls"
   ]
  },
  {
   "cell_type": "code",
   "execution_count": 56,
   "metadata": {},
   "outputs": [
    {
     "data": {
      "text/html": [
       "<div>\n",
       "<style scoped>\n",
       "    .dataframe tbody tr th:only-of-type {\n",
       "        vertical-align: middle;\n",
       "    }\n",
       "\n",
       "    .dataframe tbody tr th {\n",
       "        vertical-align: top;\n",
       "    }\n",
       "\n",
       "    .dataframe thead th {\n",
       "        text-align: right;\n",
       "    }\n",
       "</style>\n",
       "<table border=\"1\" class=\"dataframe\">\n",
       "  <thead>\n",
       "    <tr style=\"text-align: right;\">\n",
       "      <th></th>\n",
       "      <th>Date</th>\n",
       "      <th>Wages</th>\n",
       "    </tr>\n",
       "  </thead>\n",
       "  <tbody>\n",
       "    <tr>\n",
       "      <th>0</th>\n",
       "      <td>2013Q1</td>\n",
       "      <td>1.7</td>\n",
       "    </tr>\n",
       "    <tr>\n",
       "      <th>1</th>\n",
       "      <td>2013Q2</td>\n",
       "      <td>1.9</td>\n",
       "    </tr>\n",
       "    <tr>\n",
       "      <th>2</th>\n",
       "      <td>2013Q3</td>\n",
       "      <td>1.8</td>\n",
       "    </tr>\n",
       "    <tr>\n",
       "      <th>3</th>\n",
       "      <td>2013Q4</td>\n",
       "      <td>2.1</td>\n",
       "    </tr>\n",
       "    <tr>\n",
       "      <th>4</th>\n",
       "      <td>2014Q1</td>\n",
       "      <td>1.7</td>\n",
       "    </tr>\n",
       "  </tbody>\n",
       "</table>\n",
       "</div>"
      ],
      "text/plain": [
       "     Date  Wages\n",
       "0  2013Q1    1.7\n",
       "1  2013Q2    1.9\n",
       "2  2013Q3    1.8\n",
       "3  2013Q4    2.1\n",
       "4  2014Q1    1.7"
      ]
     },
     "execution_count": 56,
     "metadata": {},
     "output_type": "execute_result"
    }
   ],
   "source": [
    "#wages = bls.get_series('CIU2020000000000A') #get wagese data\n",
    "#wages.to_csv('wages_data') #write it to csv file\n",
    "wages_data = pd.read_csv('wages_data')\n",
    "wages_data.columns = 'Date', 'Wages'\n",
    "wages_data.head()\n",
    "\n",
    "#wages show the annual average growth in %..\n",
    "#e.g. 2013Q1 1.7% means if the trend continued it would be annul average growth"
   ]
  },
  {
   "cell_type": "code",
   "execution_count": 57,
   "metadata": {},
   "outputs": [
    {
     "data": {
      "text/html": [
       "<div>\n",
       "<style scoped>\n",
       "    .dataframe tbody tr th:only-of-type {\n",
       "        vertical-align: middle;\n",
       "    }\n",
       "\n",
       "    .dataframe tbody tr th {\n",
       "        vertical-align: top;\n",
       "    }\n",
       "\n",
       "    .dataframe thead th {\n",
       "        text-align: right;\n",
       "    }\n",
       "</style>\n",
       "<table border=\"1\" class=\"dataframe\">\n",
       "  <thead>\n",
       "    <tr style=\"text-align: right;\">\n",
       "      <th></th>\n",
       "      <th>Date</th>\n",
       "      <th>CPI</th>\n",
       "    </tr>\n",
       "  </thead>\n",
       "  <tbody>\n",
       "    <tr>\n",
       "      <th>0</th>\n",
       "      <td>2013-01</td>\n",
       "      <td>230.280</td>\n",
       "    </tr>\n",
       "    <tr>\n",
       "      <th>1</th>\n",
       "      <td>2013-02</td>\n",
       "      <td>232.166</td>\n",
       "    </tr>\n",
       "    <tr>\n",
       "      <th>2</th>\n",
       "      <td>2013-03</td>\n",
       "      <td>232.773</td>\n",
       "    </tr>\n",
       "    <tr>\n",
       "      <th>3</th>\n",
       "      <td>2013-04</td>\n",
       "      <td>232.531</td>\n",
       "    </tr>\n",
       "    <tr>\n",
       "      <th>4</th>\n",
       "      <td>2013-05</td>\n",
       "      <td>232.945</td>\n",
       "    </tr>\n",
       "  </tbody>\n",
       "</table>\n",
       "</div>"
      ],
      "text/plain": [
       "      Date      CPI\n",
       "0  2013-01  230.280\n",
       "1  2013-02  232.166\n",
       "2  2013-03  232.773\n",
       "3  2013-04  232.531\n",
       "4  2013-05  232.945"
      ]
     },
     "execution_count": 57,
     "metadata": {},
     "output_type": "execute_result"
    }
   ],
   "source": [
    "#cpi = bls.get_series('CUUR0000SA0') #get cpi data\n",
    "#cpi.to_csv('cpi_data') #write it to csv\n",
    "cpi_data = pd.read_csv('cpi_data')\n",
    "cpi_data.columns = 'Date', 'CPI'\n",
    "cpi_data.head()"
   ]
  },
  {
   "cell_type": "code",
   "execution_count": 58,
   "metadata": {},
   "outputs": [
    {
     "data": {
      "text/html": [
       "<div>\n",
       "<style scoped>\n",
       "    .dataframe tbody tr th:only-of-type {\n",
       "        vertical-align: middle;\n",
       "    }\n",
       "\n",
       "    .dataframe tbody tr th {\n",
       "        vertical-align: top;\n",
       "    }\n",
       "\n",
       "    .dataframe thead th {\n",
       "        text-align: right;\n",
       "    }\n",
       "</style>\n",
       "<table border=\"1\" class=\"dataframe\">\n",
       "  <thead>\n",
       "    <tr style=\"text-align: right;\">\n",
       "      <th></th>\n",
       "      <th>Date</th>\n",
       "      <th>CPI</th>\n",
       "    </tr>\n",
       "  </thead>\n",
       "  <tbody>\n",
       "    <tr>\n",
       "      <th>2</th>\n",
       "      <td>2013Q1</td>\n",
       "      <td>232.773</td>\n",
       "    </tr>\n",
       "    <tr>\n",
       "      <th>5</th>\n",
       "      <td>2013Q2</td>\n",
       "      <td>233.504</td>\n",
       "    </tr>\n",
       "    <tr>\n",
       "      <th>8</th>\n",
       "      <td>2013Q3</td>\n",
       "      <td>234.149</td>\n",
       "    </tr>\n",
       "    <tr>\n",
       "      <th>11</th>\n",
       "      <td>2013Q4</td>\n",
       "      <td>233.049</td>\n",
       "    </tr>\n",
       "    <tr>\n",
       "      <th>14</th>\n",
       "      <td>2014Q1</td>\n",
       "      <td>236.293</td>\n",
       "    </tr>\n",
       "  </tbody>\n",
       "</table>\n",
       "</div>"
      ],
      "text/plain": [
       "      Date      CPI\n",
       "2   2013Q1  232.773\n",
       "5   2013Q2  233.504\n",
       "8   2013Q3  234.149\n",
       "11  2013Q4  233.049\n",
       "14  2014Q1  236.293"
      ]
     },
     "execution_count": 58,
     "metadata": {},
     "output_type": "execute_result"
    }
   ],
   "source": [
    "#clean and manipulate data as wages are monthly and cpi quarterly measured\n",
    "#along with wages shown in percentages, while the cpi is points\n",
    "\n",
    "cpi_data['Date'] = cpi_data['Date'].str.replace('-03', 'Q1') #replace each instance -03 in Date colum with Q1\n",
    "cpi_data['Date'] = cpi_data['Date'].str.replace('-06', 'Q2')\n",
    "cpi_data['Date'] = cpi_data['Date'].str.replace('-09', 'Q3')\n",
    "cpi_data['Date'] = cpi_data['Date'].str.replace('-12', 'Q4')\n",
    "\n",
    "cpi_data = cpi_data[cpi_data.Date.str.contains('-') == False] #delete other rows containing '-'\n",
    "\n",
    "cpi_data.head()"
   ]
  },
  {
   "cell_type": "code",
   "execution_count": 59,
   "metadata": {},
   "outputs": [
    {
     "data": {
      "text/html": [
       "<div>\n",
       "<style scoped>\n",
       "    .dataframe tbody tr th:only-of-type {\n",
       "        vertical-align: middle;\n",
       "    }\n",
       "\n",
       "    .dataframe tbody tr th {\n",
       "        vertical-align: top;\n",
       "    }\n",
       "\n",
       "    .dataframe thead th {\n",
       "        text-align: right;\n",
       "    }\n",
       "</style>\n",
       "<table border=\"1\" class=\"dataframe\">\n",
       "  <thead>\n",
       "    <tr style=\"text-align: right;\">\n",
       "      <th></th>\n",
       "      <th>Date</th>\n",
       "      <th>Wages</th>\n",
       "    </tr>\n",
       "  </thead>\n",
       "  <tbody>\n",
       "    <tr>\n",
       "      <th>0</th>\n",
       "      <td>2013Q1</td>\n",
       "      <td>231.258690</td>\n",
       "    </tr>\n",
       "    <tr>\n",
       "      <th>1</th>\n",
       "      <td>2013Q2</td>\n",
       "      <td>232.357169</td>\n",
       "    </tr>\n",
       "    <tr>\n",
       "      <th>2</th>\n",
       "      <td>2013Q3</td>\n",
       "      <td>233.402776</td>\n",
       "    </tr>\n",
       "    <tr>\n",
       "      <th>3</th>\n",
       "      <td>2013Q4</td>\n",
       "      <td>234.628141</td>\n",
       "    </tr>\n",
       "    <tr>\n",
       "      <th>4</th>\n",
       "      <td>2014Q1</td>\n",
       "      <td>235.625310</td>\n",
       "    </tr>\n",
       "  </tbody>\n",
       "</table>\n",
       "</div>"
      ],
      "text/plain": [
       "     Date       Wages\n",
       "0  2013Q1  231.258690\n",
       "1  2013Q2  232.357169\n",
       "2  2013Q3  233.402776\n",
       "3  2013Q4  234.628141\n",
       "4  2014Q1  235.625310"
      ]
     },
     "execution_count": 59,
     "metadata": {},
     "output_type": "execute_result"
    }
   ],
   "source": [
    "##wages - divide each quarterly growth rate by four. This would be gross simplification of the process\n",
    "# taking presumtion that the real changes to wages during those three months were exactly one quarter of the reported year-over-year rate. \n",
    "#determine baseline for calculation, that is 1st cpi value from the dataframe\n",
    "\n",
    "#wagesam = bls.get_series('CIU2020000000000A') #read rata\n",
    "#wagesam.to_csv('bls_wages_data') #write to csv\n",
    "df = pd.read_csv('bls_wages_data') #read csv and save to dataframe\n",
    "df.columns = 'Date','Wages' #rename columns\n",
    "\n",
    "newdf = df \n",
    "newnum = pd.read_csv('cpi_data')\n",
    "newnum= newnum['CUUR0000SA0'][0] #assign starting CPI as baseline value\n",
    "def process_wages(x):\n",
    "    global newnum\n",
    "    if type(x) is str:\n",
    "        return x\n",
    "    elif x:\n",
    "        newnum = (x / 400) * newnum + newnum #convert wages from percentages to points and multiply by baseline to get approximative CPI\n",
    "        return newnum\n",
    "    else:\n",
    "        return\n",
    "newwages = newdf.applymap(process_wages)\n",
    "\n",
    "newwages.head()"
   ]
  },
  {
   "cell_type": "code",
   "execution_count": 122,
   "metadata": {},
   "outputs": [
    {
     "data": {
      "text/html": [
       "<div>\n",
       "<style scoped>\n",
       "    .dataframe tbody tr th:only-of-type {\n",
       "        vertical-align: middle;\n",
       "    }\n",
       "\n",
       "    .dataframe tbody tr th {\n",
       "        vertical-align: top;\n",
       "    }\n",
       "\n",
       "    .dataframe thead th {\n",
       "        text-align: right;\n",
       "    }\n",
       "</style>\n",
       "<table border=\"1\" class=\"dataframe\">\n",
       "  <thead>\n",
       "    <tr style=\"text-align: right;\">\n",
       "      <th></th>\n",
       "      <th>Date</th>\n",
       "      <th>CPI</th>\n",
       "      <th>Wages</th>\n",
       "    </tr>\n",
       "  </thead>\n",
       "  <tbody>\n",
       "    <tr>\n",
       "      <th>0</th>\n",
       "      <td>2013Q1</td>\n",
       "      <td>232.773</td>\n",
       "      <td>231.258690</td>\n",
       "    </tr>\n",
       "    <tr>\n",
       "      <th>1</th>\n",
       "      <td>2013Q2</td>\n",
       "      <td>233.504</td>\n",
       "      <td>232.357169</td>\n",
       "    </tr>\n",
       "    <tr>\n",
       "      <th>2</th>\n",
       "      <td>2013Q3</td>\n",
       "      <td>234.149</td>\n",
       "      <td>233.402776</td>\n",
       "    </tr>\n",
       "    <tr>\n",
       "      <th>3</th>\n",
       "      <td>2013Q4</td>\n",
       "      <td>233.049</td>\n",
       "      <td>234.628141</td>\n",
       "    </tr>\n",
       "    <tr>\n",
       "      <th>4</th>\n",
       "      <td>2014Q1</td>\n",
       "      <td>236.293</td>\n",
       "      <td>235.625310</td>\n",
       "    </tr>\n",
       "    <tr>\n",
       "      <th>5</th>\n",
       "      <td>2014Q2</td>\n",
       "      <td>238.343</td>\n",
       "      <td>236.744530</td>\n",
       "    </tr>\n",
       "    <tr>\n",
       "      <th>6</th>\n",
       "      <td>2014Q3</td>\n",
       "      <td>238.031</td>\n",
       "      <td>238.105811</td>\n",
       "    </tr>\n",
       "    <tr>\n",
       "      <th>7</th>\n",
       "      <td>2014Q4</td>\n",
       "      <td>234.812</td>\n",
       "      <td>239.415393</td>\n",
       "    </tr>\n",
       "    <tr>\n",
       "      <th>8</th>\n",
       "      <td>2015Q1</td>\n",
       "      <td>236.119</td>\n",
       "      <td>241.091301</td>\n",
       "    </tr>\n",
       "    <tr>\n",
       "      <th>9</th>\n",
       "      <td>2015Q2</td>\n",
       "      <td>238.638</td>\n",
       "      <td>242.417303</td>\n",
       "    </tr>\n",
       "    <tr>\n",
       "      <th>10</th>\n",
       "      <td>2015Q3</td>\n",
       "      <td>237.945</td>\n",
       "      <td>243.689994</td>\n",
       "    </tr>\n",
       "    <tr>\n",
       "      <th>11</th>\n",
       "      <td>2015Q4</td>\n",
       "      <td>236.525</td>\n",
       "      <td>244.969367</td>\n",
       "    </tr>\n",
       "    <tr>\n",
       "      <th>12</th>\n",
       "      <td>2016Q1</td>\n",
       "      <td>238.132</td>\n",
       "      <td>246.194214</td>\n",
       "    </tr>\n",
       "    <tr>\n",
       "      <th>13</th>\n",
       "      <td>2016Q2</td>\n",
       "      <td>241.018</td>\n",
       "      <td>247.794476</td>\n",
       "    </tr>\n",
       "    <tr>\n",
       "      <th>14</th>\n",
       "      <td>2016Q3</td>\n",
       "      <td>241.428</td>\n",
       "      <td>249.281243</td>\n",
       "    </tr>\n",
       "    <tr>\n",
       "      <th>15</th>\n",
       "      <td>2016Q4</td>\n",
       "      <td>241.432</td>\n",
       "      <td>250.714610</td>\n",
       "    </tr>\n",
       "    <tr>\n",
       "      <th>16</th>\n",
       "      <td>2017Q1</td>\n",
       "      <td>243.801</td>\n",
       "      <td>252.344255</td>\n",
       "    </tr>\n",
       "    <tr>\n",
       "      <th>17</th>\n",
       "      <td>2017Q2</td>\n",
       "      <td>244.955</td>\n",
       "      <td>253.858320</td>\n",
       "    </tr>\n",
       "    <tr>\n",
       "      <th>18</th>\n",
       "      <td>2017Q3</td>\n",
       "      <td>246.819</td>\n",
       "      <td>255.508399</td>\n",
       "    </tr>\n",
       "    <tr>\n",
       "      <th>19</th>\n",
       "      <td>2017Q4</td>\n",
       "      <td>246.524</td>\n",
       "      <td>257.296958</td>\n",
       "    </tr>\n",
       "    <tr>\n",
       "      <th>20</th>\n",
       "      <td>2018Q1</td>\n",
       "      <td>249.554</td>\n",
       "      <td>259.162361</td>\n",
       "    </tr>\n",
       "    <tr>\n",
       "      <th>21</th>\n",
       "      <td>2018Q2</td>\n",
       "      <td>251.989</td>\n",
       "      <td>261.041288</td>\n",
       "    </tr>\n",
       "    <tr>\n",
       "      <th>22</th>\n",
       "      <td>2018Q3</td>\n",
       "      <td>252.439</td>\n",
       "      <td>263.064358</td>\n",
       "    </tr>\n",
       "    <tr>\n",
       "      <th>23</th>\n",
       "      <td>2018Q4</td>\n",
       "      <td>251.233</td>\n",
       "      <td>265.103107</td>\n",
       "    </tr>\n",
       "    <tr>\n",
       "      <th>24</th>\n",
       "      <td>2019Q1</td>\n",
       "      <td>254.202</td>\n",
       "      <td>267.091380</td>\n",
       "    </tr>\n",
       "    <tr>\n",
       "      <th>25</th>\n",
       "      <td>2019Q2</td>\n",
       "      <td>256.143</td>\n",
       "      <td>269.094566</td>\n",
       "    </tr>\n",
       "    <tr>\n",
       "      <th>26</th>\n",
       "      <td>2019Q3</td>\n",
       "      <td>256.759</td>\n",
       "      <td>271.112775</td>\n",
       "    </tr>\n",
       "    <tr>\n",
       "      <th>27</th>\n",
       "      <td>2019Q4</td>\n",
       "      <td>256.974</td>\n",
       "      <td>273.146121</td>\n",
       "    </tr>\n",
       "    <tr>\n",
       "      <th>28</th>\n",
       "      <td>2020Q1</td>\n",
       "      <td>258.115</td>\n",
       "      <td>275.399576</td>\n",
       "    </tr>\n",
       "    <tr>\n",
       "      <th>29</th>\n",
       "      <td>2020Q2</td>\n",
       "      <td>257.797</td>\n",
       "      <td>277.396223</td>\n",
       "    </tr>\n",
       "    <tr>\n",
       "      <th>30</th>\n",
       "      <td>2020Q3</td>\n",
       "      <td>260.280</td>\n",
       "      <td>279.268648</td>\n",
       "    </tr>\n",
       "    <tr>\n",
       "      <th>31</th>\n",
       "      <td>2020Q4</td>\n",
       "      <td>260.474</td>\n",
       "      <td>281.223528</td>\n",
       "    </tr>\n",
       "    <tr>\n",
       "      <th>32</th>\n",
       "      <td>2021Q1</td>\n",
       "      <td>264.877</td>\n",
       "      <td>283.332705</td>\n",
       "    </tr>\n",
       "    <tr>\n",
       "      <th>33</th>\n",
       "      <td>2021Q2</td>\n",
       "      <td>271.696</td>\n",
       "      <td>285.811866</td>\n",
       "    </tr>\n",
       "    <tr>\n",
       "      <th>34</th>\n",
       "      <td>2021Q3</td>\n",
       "      <td>274.310</td>\n",
       "      <td>289.098702</td>\n",
       "    </tr>\n",
       "    <tr>\n",
       "      <th>35</th>\n",
       "      <td>2021Q4</td>\n",
       "      <td>278.802</td>\n",
       "      <td>292.712436</td>\n",
       "    </tr>\n",
       "    <tr>\n",
       "      <th>36</th>\n",
       "      <td>2022Q1</td>\n",
       "      <td>287.504</td>\n",
       "      <td>296.371342</td>\n",
       "    </tr>\n",
       "    <tr>\n",
       "      <th>37</th>\n",
       "      <td>2022Q2</td>\n",
       "      <td>296.311</td>\n",
       "      <td>300.594633</td>\n",
       "    </tr>\n",
       "  </tbody>\n",
       "</table>\n",
       "</div>"
      ],
      "text/plain": [
       "      Date      CPI       Wages\n",
       "0   2013Q1  232.773  231.258690\n",
       "1   2013Q2  233.504  232.357169\n",
       "2   2013Q3  234.149  233.402776\n",
       "3   2013Q4  233.049  234.628141\n",
       "4   2014Q1  236.293  235.625310\n",
       "5   2014Q2  238.343  236.744530\n",
       "6   2014Q3  238.031  238.105811\n",
       "7   2014Q4  234.812  239.415393\n",
       "8   2015Q1  236.119  241.091301\n",
       "9   2015Q2  238.638  242.417303\n",
       "10  2015Q3  237.945  243.689994\n",
       "11  2015Q4  236.525  244.969367\n",
       "12  2016Q1  238.132  246.194214\n",
       "13  2016Q2  241.018  247.794476\n",
       "14  2016Q3  241.428  249.281243\n",
       "15  2016Q4  241.432  250.714610\n",
       "16  2017Q1  243.801  252.344255\n",
       "17  2017Q2  244.955  253.858320\n",
       "18  2017Q3  246.819  255.508399\n",
       "19  2017Q4  246.524  257.296958\n",
       "20  2018Q1  249.554  259.162361\n",
       "21  2018Q2  251.989  261.041288\n",
       "22  2018Q3  252.439  263.064358\n",
       "23  2018Q4  251.233  265.103107\n",
       "24  2019Q1  254.202  267.091380\n",
       "25  2019Q2  256.143  269.094566\n",
       "26  2019Q3  256.759  271.112775\n",
       "27  2019Q4  256.974  273.146121\n",
       "28  2020Q1  258.115  275.399576\n",
       "29  2020Q2  257.797  277.396223\n",
       "30  2020Q3  260.280  279.268648\n",
       "31  2020Q4  260.474  281.223528\n",
       "32  2021Q1  264.877  283.332705\n",
       "33  2021Q2  271.696  285.811866\n",
       "34  2021Q3  274.310  289.098702\n",
       "35  2021Q4  278.802  292.712436\n",
       "36  2022Q1  287.504  296.371342\n",
       "37  2022Q2  296.311  300.594633"
      ]
     },
     "execution_count": 122,
     "metadata": {},
     "output_type": "execute_result"
    }
   ],
   "source": [
    "#merge the data\n",
    "merged_data = pd.merge(cpi_data, newwages, on='Date')\n",
    "merged_data"
   ]
  },
  {
   "cell_type": "code",
   "execution_count": 61,
   "metadata": {},
   "outputs": [
    {
     "data": {
      "text/plain": [
       "Text(0.5, 0, 'Dates')"
      ]
     },
     "execution_count": 61,
     "metadata": {},
     "output_type": "execute_result"
    },
    {
     "data": {
      "image/png": "[encoded data removed]",
      "text/plain": [
       "<Figure size 1440x504 with 1 Axes>"
      ]
     },
     "metadata": {
      "needs_background": "light"
     },
     "output_type": "display_data"
    }
   ],
   "source": [
    "#plot the data\n",
    "ax = merged_data.plot(kind='bar', figsize=(20, 7))\n",
    "ax.set_xticklabels(merged_data.Date, rotation=45)\n",
    "ax.set_ylabel('CPI vs. Wages and salaries - 12-month change')\n",
    "ax.set_xlabel('Dates')"
   ]
  },
  {
   "cell_type": "code",
   "execution_count": 62,
   "metadata": {},
   "outputs": [
    {
     "data": {
      "image/png": "[encoded data removed]",
      "text/plain": [
       "<Figure size 1440x504 with 1 Axes>"
      ]
     },
     "metadata": {
      "needs_background": "light"
     },
     "output_type": "display_data"
    }
   ],
   "source": [
    "ax = merged_data.plot(kind='line', figsize=(20, 7))\n",
    "ax.set_ylabel('CPI vs. Wages and salaries - 12-month change')\n",
    "ax.set_xlabel('Dates')\n",
    "ax.grid()"
   ]
  },
  {
   "cell_type": "code",
   "execution_count": 63,
   "metadata": {},
   "outputs": [
    {
     "data": {
      "application/vnd.plotly.v1+json": {
       "config": {
        "plotlyServerURL": "https://plot.ly"
       },
       "data": [
        {
         "name": "CPI",
         "type": "scatter",
         "x": [
          "2013Q1",
          "2013Q2",
          "2013Q3",
          "2013Q4",
          "2014Q1",
          "2014Q2",
          "2014Q3",
          "2014Q4",
          "2015Q1",
          "2015Q2",
          "2015Q3",
          "2015Q4",
          "2016Q1",
          "2016Q2",
          "2016Q3",
          "2016Q4",
          "2017Q1",
          "2017Q2",
          "2017Q3",
          "2017Q4",
          "2018Q1",
          "2018Q2",
          "2018Q3",
          "2018Q4",
          "2019Q1",
          "2019Q2",
          "2019Q3",
          "2019Q4",
          "2020Q1",
          "2020Q2",
          "2020Q3",
          "2020Q4",
          "2021Q1",
          "2021Q2",
          "2021Q3",
          "2021Q4",
          "2022Q1",
          "2022Q2"
         ],
         "y": [
          232.773,
          233.504,
          234.149,
          233.049,
          236.293,
          238.343,
          238.031,
          234.812,
          236.119,
          238.638,
          237.945,
          236.525,
          238.132,
          241.018,
          241.428,
          241.432,
          243.801,
          244.955,
          246.819,
          246.524,
          249.554,
          251.989,
          252.439,
          251.233,
          254.202,
          256.143,
          256.759,
          256.974,
          258.115,
          257.797,
          260.28,
          260.474,
          264.877,
          271.696,
          274.31,
          278.802,
          287.504,
          296.311
         ]
        },
        {
         "mode": "lines",
         "name": "Approximated CPI",
         "type": "scatter",
         "x": [
          "2013Q1",
          "2013Q2",
          "2013Q3",
          "2013Q4",
          "2014Q1",
          "2014Q2",
          "2014Q3",
          "2014Q4",
          "2015Q1",
          "2015Q2",
          "2015Q3",
          "2015Q4",
          "2016Q1",
          "2016Q2",
          "2016Q3",
          "2016Q4",
          "2017Q1",
          "2017Q2",
          "2017Q3",
          "2017Q4",
          "2018Q1",
          "2018Q2",
          "2018Q3",
          "2018Q4",
          "2019Q1",
          "2019Q2",
          "2019Q3",
          "2019Q4",
          "2020Q1",
          "2020Q2",
          "2020Q3",
          "2020Q4",
          "2021Q1",
          "2021Q2",
          "2021Q3",
          "2021Q4",
          "2022Q1",
          "2022Q2"
         ],
         "y": [
          231.25869,
          232.3571687775,
          233.40277603699874,
          234.62814061119298,
          235.62531020879055,
          236.74453043228232,
          238.10581148226794,
          239.41539344542042,
          241.09130119953835,
          242.41730335613582,
          243.68999419875553,
          244.969366668299,
          246.1942135016405,
          247.79447588940116,
          249.28124274473757,
          250.7146098905198,
          252.34425485480818,
          253.85832038393704,
          255.50839946643262,
          257.2969582626977,
          259.16236121010223,
          261.04128832887545,
          263.06435831342424,
          265.10310709035326,
          267.0913803935309,
          269.09456574648243,
          271.11277498958106,
          273.14612080200294,
          275.3995762986195,
          277.39622322678446,
          279.2686477335653,
          281.2235282677002,
          283.3327047297079,
          285.81186589609285,
          289.0987023538979,
          292.71243613332166,
          296.37134158498816,
          300.59463320257424
         ]
        }
       ],
       "layout": {
        "template": {
         "data": {
          "bar": [
           {
            "error_x": {
             "color": "#2a3f5f"
            },
            "error_y": {
             "color": "#2a3f5f"
            },
            "marker": {
             "line": {
              "color": "#E5ECF6",
              "width": 0.5
             },
             "pattern": {
              "fillmode": "overlay",
              "size": 10,
              "solidity": 0.2
             }
            },
            "type": "bar"
           }
          ],
          "barpolar": [
           {
            "marker": {
             "line": {
              "color": "#E5ECF6",
              "width": 0.5
             },
             "pattern": {
              "fillmode": "overlay",
              "size": 10,
              "solidity": 0.2
             }
            },
            "type": "barpolar"
           }
          ],
          "carpet": [
           {
            "aaxis": {
             "endlinecolor": "#2a3f5f",
             "gridcolor": "white",
             "linecolor": "white",
             "minorgridcolor": "white",
             "startlinecolor": "#2a3f5f"
            },
            "baxis": {
             "endlinecolor": "#2a3f5f",
             "gridcolor": "white",
             "linecolor": "white",
             "minorgridcolor": "white",
             "startlinecolor": "#2a3f5f"
            },
            "type": "carpet"
           }
          ],
          "choropleth": [
           {
            "colorbar": {
             "outlinewidth": 0,
             "ticks": ""
            },
            "type": "choropleth"
           }
          ],
          "contour": [
           {
            "colorbar": {
             "outlinewidth": 0,
             "ticks": ""
            },
            "colorscale": [
             [
              0,
              "#0d0887"
             ],
             [
              0.1111111111111111,
              "#46039f"
             ],
             [
              0.2222222222222222,
              "#7201a8"
             ],
             [
              0.3333333333333333,
              "#9c179e"
             ],
             [
              0.4444444444444444,
              "#bd3786"
             ],
             [
              0.5555555555555556,
              "#d8576b"
             ],
             [
              0.6666666666666666,
              "#ed7953"
             ],
             [
              0.7777777777777778,
              "#fb9f3a"
             ],
             [
              0.8888888888888888,
              "#fdca26"
             ],
             [
              1,
              "#f0f921"
             ]
            ],
            "type": "contour"
           }
          ],
          "contourcarpet": [
           {
            "colorbar": {
             "outlinewidth": 0,
             "ticks": ""
            },
            "type": "contourcarpet"
           }
          ],
          "heatmap": [
           {
            "colorbar": {
             "outlinewidth": 0,
             "ticks": ""
            },
            "colorscale": [
             [
              0,
              "#0d0887"
             ],
             [
              0.1111111111111111,
              "#46039f"
             ],
             [
              0.2222222222222222,
              "#7201a8"
             ],
             [
              0.3333333333333333,
              "#9c179e"
             ],
             [
              0.4444444444444444,
              "#bd3786"
             ],
             [
              0.5555555555555556,
              "#d8576b"
             ],
             [
              0.6666666666666666,
              "#ed7953"
             ],
             [
              0.7777777777777778,
              "#fb9f3a"
             ],
             [
              0.8888888888888888,
              "#fdca26"
             ],
             [
              1,
              "#f0f921"
             ]
            ],
            "type": "heatmap"
           }
          ],
          "heatmapgl": [
           {
            "colorbar": {
             "outlinewidth": 0,
             "ticks": ""
            },
            "colorscale": [
             [
              0,
              "#0d0887"
             ],
             [
              0.1111111111111111,
              "#46039f"
             ],
             [
              0.2222222222222222,
              "#7201a8"
             ],
             [
              0.3333333333333333,
              "#9c179e"
             ],
             [
              0.4444444444444444,
              "#bd3786"
             ],
             [
              0.5555555555555556,
              "#d8576b"
             ],
             [
              0.6666666666666666,
              "#ed7953"
             ],
             [
              0.7777777777777778,
              "#fb9f3a"
             ],
             [
              0.8888888888888888,
              "#fdca26"
             ],
             [
              1,
              "#f0f921"
             ]
            ],
            "type": "heatmapgl"
           }
          ],
          "histogram": [
           {
            "marker": {
             "pattern": {
              "fillmode": "overlay",
              "size": 10,
              "solidity": 0.2
             }
            },
            "type": "histogram"
           }
          ],
          "histogram2d": [
           {
            "colorbar": {
             "outlinewidth": 0,
             "ticks": ""
            },
            "colorscale": [
             [
              0,
              "#0d0887"
             ],
             [
              0.1111111111111111,
              "#46039f"
             ],
             [
              0.2222222222222222,
              "#7201a8"
             ],
             [
              0.3333333333333333,
              "#9c179e"
             ],
             [
              0.4444444444444444,
              "#bd3786"
             ],
             [
              0.5555555555555556,
              "#d8576b"
             ],
             [
              0.6666666666666666,
              "#ed7953"
             ],
             [
              0.7777777777777778,
              "#fb9f3a"
             ],
             [
              0.8888888888888888,
              "#fdca26"
             ],
             [
              1,
              "#f0f921"
             ]
            ],
            "type": "histogram2d"
           }
          ],
          "histogram2dcontour": [
           {
            "colorbar": {
             "outlinewidth": 0,
             "ticks": ""
            },
            "colorscale": [
             [
              0,
              "#0d0887"
             ],
             [
              0.1111111111111111,
              "#46039f"
             ],
             [
              0.2222222222222222,
              "#7201a8"
             ],
             [
              0.3333333333333333,
              "#9c179e"
             ],
             [
              0.4444444444444444,
              "#bd3786"
             ],
             [
              0.5555555555555556,
              "#d8576b"
             ],
             [
              0.6666666666666666,
              "#ed7953"
             ],
             [
              0.7777777777777778,
              "#fb9f3a"
             ],
             [
              0.8888888888888888,
              "#fdca26"
             ],
             [
              1,
              "#f0f921"
             ]
            ],
            "type": "histogram2dcontour"
           }
          ],
          "mesh3d": [
           {
            "colorbar": {
             "outlinewidth": 0,
             "ticks": ""
            },
            "type": "mesh3d"
           }
          ],
          "parcoords": [
           {
            "line": {
             "colorbar": {
              "outlinewidth": 0,
              "ticks": ""
             }
            },
            "type": "parcoords"
           }
          ],
          "pie": [
           {
            "automargin": true,
            "type": "pie"
           }
          ],
          "scatter": [
           {
            "marker": {
             "colorbar": {
              "outlinewidth": 0,
              "ticks": ""
             }
            },
            "type": "scatter"
           }
          ],
          "scatter3d": [
           {
            "line": {
             "colorbar": {
              "outlinewidth": 0,
              "ticks": ""
             }
            },
            "marker": {
             "colorbar": {
              "outlinewidth": 0,
              "ticks": ""
             }
            },
            "type": "scatter3d"
           }
          ],
          "scattercarpet": [
           {
            "marker": {
             "colorbar": {
              "outlinewidth": 0,
              "ticks": ""
             }
            },
            "type": "scattercarpet"
           }
          ],
          "scattergeo": [
           {
            "marker": {
             "colorbar": {
              "outlinewidth": 0,
              "ticks": ""
             }
            },
            "type": "scattergeo"
           }
          ],
          "scattergl": [
           {
            "marker": {
             "colorbar": {
              "outlinewidth": 0,
              "ticks": ""
             }
            },
            "type": "scattergl"
           }
          ],
          "scattermapbox": [
           {
            "marker": {
             "colorbar": {
              "outlinewidth": 0,
              "ticks": ""
             }
            },
            "type": "scattermapbox"
           }
          ],
          "scatterpolar": [
           {
            "marker": {
             "colorbar": {
              "outlinewidth": 0,
              "ticks": ""
             }
            },
            "type": "scatterpolar"
           }
          ],
          "scatterpolargl": [
           {
            "marker": {
             "colorbar": {
              "outlinewidth": 0,
              "ticks": ""
             }
            },
            "type": "scatterpolargl"
           }
          ],
          "scatterternary": [
           {
            "marker": {
             "colorbar": {
              "outlinewidth": 0,
              "ticks": ""
             }
            },
            "type": "scatterternary"
           }
          ],
          "surface": [
           {
            "colorbar": {
             "outlinewidth": 0,
             "ticks": ""
            },
            "colorscale": [
             [
              0,
              "#0d0887"
             ],
             [
              0.1111111111111111,
              "#46039f"
             ],
             [
              0.2222222222222222,
              "#7201a8"
             ],
             [
              0.3333333333333333,
              "#9c179e"
             ],
             [
              0.4444444444444444,
              "#bd3786"
             ],
             [
              0.5555555555555556,
              "#d8576b"
             ],
             [
              0.6666666666666666,
              "#ed7953"
             ],
             [
              0.7777777777777778,
              "#fb9f3a"
             ],
             [
              0.8888888888888888,
              "#fdca26"
             ],
             [
              1,
              "#f0f921"
             ]
            ],
            "type": "surface"
           }
          ],
          "table": [
           {
            "cells": {
             "fill": {
              "color": "#EBF0F8"
             },
             "line": {
              "color": "white"
             }
            },
            "header": {
             "fill": {
              "color": "#C8D4E3"
             },
             "line": {
              "color": "white"
             }
            },
            "type": "table"
           }
          ]
         },
         "layout": {
          "annotationdefaults": {
           "arrowcolor": "#2a3f5f",
           "arrowhead": 0,
           "arrowwidth": 1
          },
          "autotypenumbers": "strict",
          "coloraxis": {
           "colorbar": {
            "outlinewidth": 0,
            "ticks": ""
           }
          },
          "colorscale": {
           "diverging": [
            [
             0,
             "#8e0152"
            ],
            [
             0.1,
             "#c51b7d"
            ],
            [
             0.2,
             "#de77ae"
            ],
            [
             0.3,
             "#f1b6da"
            ],
            [
             0.4,
             "#fde0ef"
            ],
            [
             0.5,
             "#f7f7f7"
            ],
            [
             0.6,
             "#e6f5d0"
            ],
            [
             0.7,
             "#b8e186"
            ],
            [
             0.8,
             "#7fbc41"
            ],
            [
             0.9,
             "#4d9221"
            ],
            [
             1,
             "#276419"
            ]
           ],
           "sequential": [
            [
             0,
             "#0d0887"
            ],
            [
             0.1111111111111111,
             "#46039f"
            ],
            [
             0.2222222222222222,
             "#7201a8"
            ],
            [
             0.3333333333333333,
             "#9c179e"
            ],
            [
             0.4444444444444444,
             "#bd3786"
            ],
            [
             0.5555555555555556,
             "#d8576b"
            ],
            [
             0.6666666666666666,
             "#ed7953"
            ],
            [
             0.7777777777777778,
             "#fb9f3a"
            ],
            [
             0.8888888888888888,
             "#fdca26"
            ],
            [
             1,
             "#f0f921"
            ]
           ],
           "sequentialminus": [
            [
             0,
             "#0d0887"
            ],
            [
             0.1111111111111111,
             "#46039f"
            ],
            [
             0.2222222222222222,
             "#7201a8"
            ],
            [
             0.3333333333333333,
             "#9c179e"
            ],
            [
             0.4444444444444444,
             "#bd3786"
            ],
            [
             0.5555555555555556,
             "#d8576b"
            ],
            [
             0.6666666666666666,
             "#ed7953"
            ],
            [
             0.7777777777777778,
             "#fb9f3a"
            ],
            [
             0.8888888888888888,
             "#fdca26"
            ],
            [
             1,
             "#f0f921"
            ]
           ]
          },
          "colorway": [
           "#636efa",
           "#EF553B",
           "#00cc96",
           "#ab63fa",
           "#FFA15A",
           "#19d3f3",
           "#FF6692",
           "#B6E880",
           "#FF97FF",
           "#FECB52"
          ],
          "font": {
           "color": "#2a3f5f"
          },
          "geo": {
           "bgcolor": "white",
           "lakecolor": "white",
           "landcolor": "#E5ECF6",
           "showlakes": true,
           "showland": true,
           "subunitcolor": "white"
          },
          "hoverlabel": {
           "align": "left"
          },
          "hovermode": "closest",
          "mapbox": {
           "style": "light"
          },
          "paper_bgcolor": "white",
          "plot_bgcolor": "#E5ECF6",
          "polar": {
           "angularaxis": {
            "gridcolor": "white",
            "linecolor": "white",
            "ticks": ""
           },
           "bgcolor": "#E5ECF6",
           "radialaxis": {
            "gridcolor": "white",
            "linecolor": "white",
            "ticks": ""
           }
          },
          "scene": {
           "xaxis": {
            "backgroundcolor": "#E5ECF6",
            "gridcolor": "white",
            "gridwidth": 2,
            "linecolor": "white",
            "showbackground": true,
            "ticks": "",
            "zerolinecolor": "white"
           },
           "yaxis": {
            "backgroundcolor": "#E5ECF6",
            "gridcolor": "white",
            "gridwidth": 2,
            "linecolor": "white",
            "showbackground": true,
            "ticks": "",
            "zerolinecolor": "white"
           },
           "zaxis": {
            "backgroundcolor": "#E5ECF6",
            "gridcolor": "white",
            "gridwidth": 2,
            "linecolor": "white",
            "showbackground": true,
            "ticks": "",
            "zerolinecolor": "white"
           }
          },
          "shapedefaults": {
           "line": {
            "color": "#2a3f5f"
           }
          },
          "ternary": {
           "aaxis": {
            "gridcolor": "white",
            "linecolor": "white",
            "ticks": ""
           },
           "baxis": {
            "gridcolor": "white",
            "linecolor": "white",
            "ticks": ""
           },
           "bgcolor": "#E5ECF6",
           "caxis": {
            "gridcolor": "white",
            "linecolor": "white",
            "ticks": ""
           }
          },
          "title": {
           "x": 0.05
          },
          "xaxis": {
           "automargin": true,
           "gridcolor": "white",
           "linecolor": "white",
           "ticks": "",
           "title": {
            "standoff": 15
           },
           "zerolinecolor": "white",
           "zerolinewidth": 2
          },
          "yaxis": {
           "automargin": true,
           "gridcolor": "white",
           "linecolor": "white",
           "ticks": "",
           "title": {
            "standoff": 15
           },
           "zerolinecolor": "white",
           "zerolinewidth": 2
          }
         }
        },
        "title": {
         "text": "Consumer Price Index vs Approximated Consumer Prices Index based on Monthly Wages"
        },
        "xaxis": {
         "title": {
          "text": "Quarter"
         }
        },
        "yaxis": {
         "title": {
          "text": "CPI / Approximated CPI"
         }
        }
       }
      }
     },
     "metadata": {},
     "output_type": "display_data"
    }
   ],
   "source": [
    "#alternative plots\n",
    "import plotly.graph_objects as go\n",
    "\n",
    "fig = go.Figure(data=go.Scatter(x=merged_data['Date'], \n",
    "                                y=merged_data['CPI'], \n",
    "                                name = 'CPI'\n",
    "                                ))\n",
    "fig.add_trace(go.Scatter(x=merged_data['Date'], y=merged_data['Wages'], mode='lines', name='Approximated CPI'))\n",
    "fig.update_layout(title='Consumer Price Index vs Approximated Consumer Prices Index based on Monthly Wages',\n",
    "                   xaxis_title='Quarter',\n",
    "                   yaxis_title='CPI / Approximated CPI')\n",
    "fig.show()"
   ]
  },
  {
   "cell_type": "code",
   "execution_count": 77,
   "metadata": {},
   "outputs": [
    {
     "data": {
      "text/html": [
       "<div>\n",
       "<style scoped>\n",
       "    .dataframe tbody tr th:only-of-type {\n",
       "        vertical-align: middle;\n",
       "    }\n",
       "\n",
       "    .dataframe tbody tr th {\n",
       "        vertical-align: top;\n",
       "    }\n",
       "\n",
       "    .dataframe thead th {\n",
       "        text-align: right;\n",
       "    }\n",
       "</style>\n",
       "<table border=\"1\" class=\"dataframe\">\n",
       "  <thead>\n",
       "    <tr style=\"text-align: right;\">\n",
       "      <th></th>\n",
       "      <th>Date</th>\n",
       "      <th>Open</th>\n",
       "      <th>High</th>\n",
       "      <th>Low</th>\n",
       "      <th>Close</th>\n",
       "      <th>Volume</th>\n",
       "      <th>Dividends</th>\n",
       "      <th>Stock Splits</th>\n",
       "    </tr>\n",
       "  </thead>\n",
       "  <tbody>\n",
       "    <tr>\n",
       "      <th>0</th>\n",
       "      <td>2012-08-17</td>\n",
       "      <td>1415.839966</td>\n",
       "      <td>1418.709961</td>\n",
       "      <td>1414.670044</td>\n",
       "      <td>1418.160034</td>\n",
       "      <td>2922990000</td>\n",
       "      <td>0</td>\n",
       "      <td>0</td>\n",
       "    </tr>\n",
       "    <tr>\n",
       "      <th>1</th>\n",
       "      <td>2012-08-20</td>\n",
       "      <td>1417.849976</td>\n",
       "      <td>1418.130005</td>\n",
       "      <td>1412.119995</td>\n",
       "      <td>1418.130005</td>\n",
       "      <td>2766320000</td>\n",
       "      <td>0</td>\n",
       "      <td>0</td>\n",
       "    </tr>\n",
       "    <tr>\n",
       "      <th>2</th>\n",
       "      <td>2012-08-21</td>\n",
       "      <td>1418.130005</td>\n",
       "      <td>1426.680054</td>\n",
       "      <td>1410.859985</td>\n",
       "      <td>1413.170044</td>\n",
       "      <td>3282950000</td>\n",
       "      <td>0</td>\n",
       "      <td>0</td>\n",
       "    </tr>\n",
       "    <tr>\n",
       "      <th>3</th>\n",
       "      <td>2012-08-22</td>\n",
       "      <td>1413.089966</td>\n",
       "      <td>1416.119995</td>\n",
       "      <td>1406.780029</td>\n",
       "      <td>1413.489990</td>\n",
       "      <td>3062690000</td>\n",
       "      <td>0</td>\n",
       "      <td>0</td>\n",
       "    </tr>\n",
       "    <tr>\n",
       "      <th>4</th>\n",
       "      <td>2012-08-23</td>\n",
       "      <td>1413.489990</td>\n",
       "      <td>1413.489990</td>\n",
       "      <td>1400.500000</td>\n",
       "      <td>1402.079956</td>\n",
       "      <td>3008240000</td>\n",
       "      <td>0</td>\n",
       "      <td>0</td>\n",
       "    </tr>\n",
       "  </tbody>\n",
       "</table>\n",
       "</div>"
      ],
      "text/plain": [
       "         Date         Open         High          Low        Close      Volume  \\\n",
       "0  2012-08-17  1415.839966  1418.709961  1414.670044  1418.160034  2922990000   \n",
       "1  2012-08-20  1417.849976  1418.130005  1412.119995  1418.130005  2766320000   \n",
       "2  2012-08-21  1418.130005  1426.680054  1410.859985  1413.170044  3282950000   \n",
       "3  2012-08-22  1413.089966  1416.119995  1406.780029  1413.489990  3062690000   \n",
       "4  2012-08-23  1413.489990  1413.489990  1400.500000  1402.079956  3008240000   \n",
       "\n",
       "   Dividends  Stock Splits  \n",
       "0          0             0  \n",
       "1          0             0  \n",
       "2          0             0  \n",
       "3          0             0  \n",
       "4          0             0  "
      ]
     },
     "execution_count": 77,
     "metadata": {},
     "output_type": "execute_result"
    }
   ],
   "source": [
    "#Incorporate S&P 500 quotes\n",
    "import yfinance as yf\n",
    "#data = yf.Ticker(\"^GSPC\").history(period='10y')\n",
    "#data.to_csv('new_s_p_500') #write to csv\n",
    "sp = pd.read_csv('new_s_p_500')\n",
    "sp.head()"
   ]
  },
  {
   "cell_type": "code",
   "execution_count": 78,
   "metadata": {},
   "outputs": [],
   "source": [
    "#set Date column to use the datetime64 format. \n",
    "#use strftime to organize the dates so the year comes first, followed by month and day\n",
    "#set the dash character - as the delimiter.\n",
    "\n",
    "#sp['Date'] = sp['Date'].astype('datetime64[ns]')\n",
    "#sp['Date'] = sp['Date'].dt.strftime('%Y-%m-%d')"
   ]
  },
  {
   "cell_type": "code",
   "execution_count": 124,
   "metadata": {},
   "outputs": [
    {
     "data": {
      "text/html": [
       "<div>\n",
       "<style scoped>\n",
       "    .dataframe tbody tr th:only-of-type {\n",
       "        vertical-align: middle;\n",
       "    }\n",
       "\n",
       "    .dataframe tbody tr th {\n",
       "        vertical-align: top;\n",
       "    }\n",
       "\n",
       "    .dataframe thead th {\n",
       "        text-align: right;\n",
       "    }\n",
       "</style>\n",
       "<table border=\"1\" class=\"dataframe\">\n",
       "  <thead>\n",
       "    <tr style=\"text-align: right;\">\n",
       "      <th></th>\n",
       "      <th>Date</th>\n",
       "      <th>Open</th>\n",
       "      <th>High</th>\n",
       "      <th>Low</th>\n",
       "      <th>Close</th>\n",
       "      <th>Volume</th>\n",
       "      <th>Dividends</th>\n",
       "      <th>Stock Splits</th>\n",
       "    </tr>\n",
       "  </thead>\n",
       "  <tbody>\n",
       "    <tr>\n",
       "      <th>279</th>\n",
       "      <td>2013Q3</td>\n",
       "      <td>1687.260010</td>\n",
       "      <td>1687.260010</td>\n",
       "      <td>1674.989990</td>\n",
       "      <td>1681.550049</td>\n",
       "      <td>3308630000</td>\n",
       "      <td>0</td>\n",
       "      <td>0</td>\n",
       "    </tr>\n",
       "    <tr>\n",
       "      <th>343</th>\n",
       "      <td>2013Q4</td>\n",
       "      <td>1842.609985</td>\n",
       "      <td>1849.439941</td>\n",
       "      <td>1842.410034</td>\n",
       "      <td>1848.359985</td>\n",
       "      <td>2312840000</td>\n",
       "      <td>0</td>\n",
       "      <td>0</td>\n",
       "    </tr>\n",
       "    <tr>\n",
       "      <th>467</th>\n",
       "      <td>2014Q2</td>\n",
       "      <td>1960.790039</td>\n",
       "      <td>1964.239990</td>\n",
       "      <td>1958.219971</td>\n",
       "      <td>1960.229980</td>\n",
       "      <td>3037350000</td>\n",
       "      <td>0</td>\n",
       "      <td>0</td>\n",
       "    </tr>\n",
       "    <tr>\n",
       "      <th>531</th>\n",
       "      <td>2014Q3</td>\n",
       "      <td>1978.209961</td>\n",
       "      <td>1985.170044</td>\n",
       "      <td>1968.959961</td>\n",
       "      <td>1972.290039</td>\n",
       "      <td>3951100000</td>\n",
       "      <td>0</td>\n",
       "      <td>0</td>\n",
       "    </tr>\n",
       "    <tr>\n",
       "      <th>595</th>\n",
       "      <td>2014Q4</td>\n",
       "      <td>2082.110107</td>\n",
       "      <td>2085.580078</td>\n",
       "      <td>2057.939941</td>\n",
       "      <td>2058.899902</td>\n",
       "      <td>2606070000</td>\n",
       "      <td>0</td>\n",
       "      <td>0</td>\n",
       "    </tr>\n",
       "    <tr>\n",
       "      <th>655</th>\n",
       "      <td>2015Q1</td>\n",
       "      <td>2064.110107</td>\n",
       "      <td>2088.969971</td>\n",
       "      <td>2064.110107</td>\n",
       "      <td>2086.239990</td>\n",
       "      <td>2917690000</td>\n",
       "      <td>0</td>\n",
       "      <td>0</td>\n",
       "    </tr>\n",
       "    <tr>\n",
       "      <th>719</th>\n",
       "      <td>2015Q2</td>\n",
       "      <td>2061.189941</td>\n",
       "      <td>2074.280029</td>\n",
       "      <td>2056.320068</td>\n",
       "      <td>2063.110107</td>\n",
       "      <td>4078540000</td>\n",
       "      <td>0</td>\n",
       "      <td>0</td>\n",
       "    </tr>\n",
       "    <tr>\n",
       "      <th>783</th>\n",
       "      <td>2015Q3</td>\n",
       "      <td>1887.140015</td>\n",
       "      <td>1920.530029</td>\n",
       "      <td>1887.140015</td>\n",
       "      <td>1920.030029</td>\n",
       "      <td>4525070000</td>\n",
       "      <td>0</td>\n",
       "      <td>0</td>\n",
       "    </tr>\n",
       "    <tr>\n",
       "      <th>847</th>\n",
       "      <td>2015Q4</td>\n",
       "      <td>2060.590088</td>\n",
       "      <td>2062.540039</td>\n",
       "      <td>2043.619995</td>\n",
       "      <td>2043.939941</td>\n",
       "      <td>2655330000</td>\n",
       "      <td>0</td>\n",
       "      <td>0</td>\n",
       "    </tr>\n",
       "    <tr>\n",
       "      <th>907</th>\n",
       "      <td>2016Q1</td>\n",
       "      <td>2058.270020</td>\n",
       "      <td>2072.209961</td>\n",
       "      <td>2058.270020</td>\n",
       "      <td>2063.949951</td>\n",
       "      <td>3590310000</td>\n",
       "      <td>0</td>\n",
       "      <td>0</td>\n",
       "    </tr>\n",
       "    <tr>\n",
       "      <th>972</th>\n",
       "      <td>2016Q2</td>\n",
       "      <td>2073.169922</td>\n",
       "      <td>2098.939941</td>\n",
       "      <td>2070.000000</td>\n",
       "      <td>2098.860107</td>\n",
       "      <td>4622820000</td>\n",
       "      <td>0</td>\n",
       "      <td>0</td>\n",
       "    </tr>\n",
       "    <tr>\n",
       "      <th>1036</th>\n",
       "      <td>2016Q3</td>\n",
       "      <td>2156.510010</td>\n",
       "      <td>2175.300049</td>\n",
       "      <td>2156.510010</td>\n",
       "      <td>2168.270020</td>\n",
       "      <td>4173340000</td>\n",
       "      <td>0</td>\n",
       "      <td>0</td>\n",
       "    </tr>\n",
       "    <tr>\n",
       "      <th>1160</th>\n",
       "      <td>2017Q1</td>\n",
       "      <td>2361.310059</td>\n",
       "      <td>2370.419922</td>\n",
       "      <td>2358.580078</td>\n",
       "      <td>2368.060059</td>\n",
       "      <td>3158420000</td>\n",
       "      <td>0</td>\n",
       "      <td>0</td>\n",
       "    </tr>\n",
       "    <tr>\n",
       "      <th>1224</th>\n",
       "      <td>2017Q2</td>\n",
       "      <td>2429.199951</td>\n",
       "      <td>2432.709961</td>\n",
       "      <td>2421.649902</td>\n",
       "      <td>2423.409912</td>\n",
       "      <td>3361590000</td>\n",
       "      <td>0</td>\n",
       "      <td>0</td>\n",
       "    </tr>\n",
       "    <tr>\n",
       "      <th>1601</th>\n",
       "      <td>2018Q4</td>\n",
       "      <td>2498.939941</td>\n",
       "      <td>2509.239990</td>\n",
       "      <td>2482.820068</td>\n",
       "      <td>2506.850098</td>\n",
       "      <td>3442870000</td>\n",
       "      <td>0</td>\n",
       "      <td>0</td>\n",
       "    </tr>\n",
       "    <tr>\n",
       "      <th>1789</th>\n",
       "      <td>2019Q3</td>\n",
       "      <td>2967.070068</td>\n",
       "      <td>2983.850098</td>\n",
       "      <td>2967.070068</td>\n",
       "      <td>2976.739990</td>\n",
       "      <td>3247610000</td>\n",
       "      <td>0</td>\n",
       "      <td>0</td>\n",
       "    </tr>\n",
       "    <tr>\n",
       "      <th>1853</th>\n",
       "      <td>2019Q4</td>\n",
       "      <td>3215.179932</td>\n",
       "      <td>3231.719971</td>\n",
       "      <td>3212.030029</td>\n",
       "      <td>3230.780029</td>\n",
       "      <td>2893810000</td>\n",
       "      <td>0</td>\n",
       "      <td>0</td>\n",
       "    </tr>\n",
       "    <tr>\n",
       "      <th>1914</th>\n",
       "      <td>2020Q1</td>\n",
       "      <td>2558.979980</td>\n",
       "      <td>2631.800049</td>\n",
       "      <td>2545.280029</td>\n",
       "      <td>2626.649902</td>\n",
       "      <td>5746220000</td>\n",
       "      <td>0</td>\n",
       "      <td>0</td>\n",
       "    </tr>\n",
       "    <tr>\n",
       "      <th>1978</th>\n",
       "      <td>2020Q2</td>\n",
       "      <td>3050.199951</td>\n",
       "      <td>3111.510010</td>\n",
       "      <td>3047.830078</td>\n",
       "      <td>3100.290039</td>\n",
       "      <td>4696280000</td>\n",
       "      <td>0</td>\n",
       "      <td>0</td>\n",
       "    </tr>\n",
       "    <tr>\n",
       "      <th>2042</th>\n",
       "      <td>2020Q3</td>\n",
       "      <td>3341.209961</td>\n",
       "      <td>3393.560059</td>\n",
       "      <td>3340.469971</td>\n",
       "      <td>3363.000000</td>\n",
       "      <td>4722530000</td>\n",
       "      <td>0</td>\n",
       "      <td>0</td>\n",
       "    </tr>\n",
       "    <tr>\n",
       "      <th>2106</th>\n",
       "      <td>2020Q4</td>\n",
       "      <td>3733.270020</td>\n",
       "      <td>3760.199951</td>\n",
       "      <td>3726.879883</td>\n",
       "      <td>3756.070068</td>\n",
       "      <td>3172510000</td>\n",
       "      <td>0</td>\n",
       "      <td>0</td>\n",
       "    </tr>\n",
       "    <tr>\n",
       "      <th>2166</th>\n",
       "      <td>2021Q1</td>\n",
       "      <td>3963.340088</td>\n",
       "      <td>3968.010010</td>\n",
       "      <td>3944.350098</td>\n",
       "      <td>3958.550049</td>\n",
       "      <td>4103570000</td>\n",
       "      <td>0</td>\n",
       "      <td>0</td>\n",
       "    </tr>\n",
       "    <tr>\n",
       "      <th>2230</th>\n",
       "      <td>2021Q2</td>\n",
       "      <td>4290.649902</td>\n",
       "      <td>4302.430176</td>\n",
       "      <td>4287.959961</td>\n",
       "      <td>4297.500000</td>\n",
       "      <td>3687880000</td>\n",
       "      <td>0</td>\n",
       "      <td>0</td>\n",
       "    </tr>\n",
       "    <tr>\n",
       "      <th>2294</th>\n",
       "      <td>2021Q3</td>\n",
       "      <td>4370.669922</td>\n",
       "      <td>4382.549805</td>\n",
       "      <td>4306.240234</td>\n",
       "      <td>4307.540039</td>\n",
       "      <td>3123770000</td>\n",
       "      <td>0</td>\n",
       "      <td>0</td>\n",
       "    </tr>\n",
       "    <tr>\n",
       "      <th>2358</th>\n",
       "      <td>2021Q4</td>\n",
       "      <td>4775.209961</td>\n",
       "      <td>4786.830078</td>\n",
       "      <td>4765.750000</td>\n",
       "      <td>4766.180176</td>\n",
       "      <td>2446190000</td>\n",
       "      <td>0</td>\n",
       "      <td>0</td>\n",
       "    </tr>\n",
       "    <tr>\n",
       "      <th>2419</th>\n",
       "      <td>2022Q1</td>\n",
       "      <td>4624.200195</td>\n",
       "      <td>4627.770020</td>\n",
       "      <td>4581.319824</td>\n",
       "      <td>4602.450195</td>\n",
       "      <td>3665390000</td>\n",
       "      <td>0</td>\n",
       "      <td>0</td>\n",
       "    </tr>\n",
       "    <tr>\n",
       "      <th>2482</th>\n",
       "      <td>2022Q2</td>\n",
       "      <td>3785.989990</td>\n",
       "      <td>3818.989990</td>\n",
       "      <td>3738.669922</td>\n",
       "      <td>3785.379883</td>\n",
       "      <td>4032260000</td>\n",
       "      <td>0</td>\n",
       "      <td>0</td>\n",
       "    </tr>\n",
       "  </tbody>\n",
       "</table>\n",
       "</div>"
      ],
      "text/plain": [
       "        Date         Open         High          Low        Close      Volume  \\\n",
       "279   2013Q3  1687.260010  1687.260010  1674.989990  1681.550049  3308630000   \n",
       "343   2013Q4  1842.609985  1849.439941  1842.410034  1848.359985  2312840000   \n",
       "467   2014Q2  1960.790039  1964.239990  1958.219971  1960.229980  3037350000   \n",
       "531   2014Q3  1978.209961  1985.170044  1968.959961  1972.290039  3951100000   \n",
       "595   2014Q4  2082.110107  2085.580078  2057.939941  2058.899902  2606070000   \n",
       "655   2015Q1  2064.110107  2088.969971  2064.110107  2086.239990  2917690000   \n",
       "719   2015Q2  2061.189941  2074.280029  2056.320068  2063.110107  4078540000   \n",
       "783   2015Q3  1887.140015  1920.530029  1887.140015  1920.030029  4525070000   \n",
       "847   2015Q4  2060.590088  2062.540039  2043.619995  2043.939941  2655330000   \n",
       "907   2016Q1  2058.270020  2072.209961  2058.270020  2063.949951  3590310000   \n",
       "972   2016Q2  2073.169922  2098.939941  2070.000000  2098.860107  4622820000   \n",
       "1036  2016Q3  2156.510010  2175.300049  2156.510010  2168.270020  4173340000   \n",
       "1160  2017Q1  2361.310059  2370.419922  2358.580078  2368.060059  3158420000   \n",
       "1224  2017Q2  2429.199951  2432.709961  2421.649902  2423.409912  3361590000   \n",
       "1601  2018Q4  2498.939941  2509.239990  2482.820068  2506.850098  3442870000   \n",
       "1789  2019Q3  2967.070068  2983.850098  2967.070068  2976.739990  3247610000   \n",
       "1853  2019Q4  3215.179932  3231.719971  3212.030029  3230.780029  2893810000   \n",
       "1914  2020Q1  2558.979980  2631.800049  2545.280029  2626.649902  5746220000   \n",
       "1978  2020Q2  3050.199951  3111.510010  3047.830078  3100.290039  4696280000   \n",
       "2042  2020Q3  3341.209961  3393.560059  3340.469971  3363.000000  4722530000   \n",
       "2106  2020Q4  3733.270020  3760.199951  3726.879883  3756.070068  3172510000   \n",
       "2166  2021Q1  3963.340088  3968.010010  3944.350098  3958.550049  4103570000   \n",
       "2230  2021Q2  4290.649902  4302.430176  4287.959961  4297.500000  3687880000   \n",
       "2294  2021Q3  4370.669922  4382.549805  4306.240234  4307.540039  3123770000   \n",
       "2358  2021Q4  4775.209961  4786.830078  4765.750000  4766.180176  2446190000   \n",
       "2419  2022Q1  4624.200195  4627.770020  4581.319824  4602.450195  3665390000   \n",
       "2482  2022Q2  3785.989990  3818.989990  3738.669922  3785.379883  4032260000   \n",
       "\n",
       "      Dividends  Stock Splits  \n",
       "279           0             0  \n",
       "343           0             0  \n",
       "467           0             0  \n",
       "531           0             0  \n",
       "595           0             0  \n",
       "655           0             0  \n",
       "719           0             0  \n",
       "783           0             0  \n",
       "847           0             0  \n",
       "907           0             0  \n",
       "972           0             0  \n",
       "1036          0             0  \n",
       "1160          0             0  \n",
       "1224          0             0  \n",
       "1601          0             0  \n",
       "1789          0             0  \n",
       "1853          0             0  \n",
       "1914          0             0  \n",
       "1978          0             0  \n",
       "2042          0             0  \n",
       "2106          0             0  \n",
       "2166          0             0  \n",
       "2230          0             0  \n",
       "2294          0             0  \n",
       "2358          0             0  \n",
       "2419          0             0  \n",
       "2482          0             0  "
      ]
     },
     "execution_count": 124,
     "metadata": {},
     "output_type": "execute_result"
    }
   ],
   "source": [
    "sp = sp[sp.Date.str.contains('2012-') == False] #delete rows with 2012\n",
    "\n",
    "sp"
   ]
  },
  {
   "cell_type": "code",
   "execution_count": 82,
   "metadata": {},
   "outputs": [],
   "source": [
    "sp['Date'] = sp['Date'].str.replace('-03-30', 'Q1')\n",
    "sp['Date'] = sp['Date'].str.replace('-06-30', 'Q2')\n",
    "sp['Date'] = sp['Date'].str.replace('-09-30', 'Q3')\n",
    "sp['Date'] = sp['Date'].str.replace('-12-31', 'Q4')\n",
    "\n",
    "sp = sp[(sp.Date.str.contains(\"Q\") == True)] #delete rows without 'Q'"
   ]
  },
  {
   "cell_type": "code",
   "execution_count": 83,
   "metadata": {},
   "outputs": [
    {
     "data": {
      "text/html": [
       "<div>\n",
       "<style scoped>\n",
       "    .dataframe tbody tr th:only-of-type {\n",
       "        vertical-align: middle;\n",
       "    }\n",
       "\n",
       "    .dataframe tbody tr th {\n",
       "        vertical-align: top;\n",
       "    }\n",
       "\n",
       "    .dataframe thead th {\n",
       "        text-align: right;\n",
       "    }\n",
       "</style>\n",
       "<table border=\"1\" class=\"dataframe\">\n",
       "  <thead>\n",
       "    <tr style=\"text-align: right;\">\n",
       "      <th></th>\n",
       "      <th>Date</th>\n",
       "      <th>Close</th>\n",
       "    </tr>\n",
       "  </thead>\n",
       "  <tbody>\n",
       "    <tr>\n",
       "      <th>279</th>\n",
       "      <td>2013Q3</td>\n",
       "      <td>1681.550049</td>\n",
       "    </tr>\n",
       "    <tr>\n",
       "      <th>343</th>\n",
       "      <td>2013Q4</td>\n",
       "      <td>1848.359985</td>\n",
       "    </tr>\n",
       "    <tr>\n",
       "      <th>467</th>\n",
       "      <td>2014Q2</td>\n",
       "      <td>1960.229980</td>\n",
       "    </tr>\n",
       "    <tr>\n",
       "      <th>531</th>\n",
       "      <td>2014Q3</td>\n",
       "      <td>1972.290039</td>\n",
       "    </tr>\n",
       "    <tr>\n",
       "      <th>595</th>\n",
       "      <td>2014Q4</td>\n",
       "      <td>2058.899902</td>\n",
       "    </tr>\n",
       "  </tbody>\n",
       "</table>\n",
       "</div>"
      ],
      "text/plain": [
       "       Date        Close\n",
       "279  2013Q3  1681.550049\n",
       "343  2013Q4  1848.359985\n",
       "467  2014Q2  1960.229980\n",
       "531  2014Q3  1972.290039\n",
       "595  2014Q4  2058.899902"
      ]
     },
     "execution_count": 83,
     "metadata": {},
     "output_type": "execute_result"
    }
   ],
   "source": [
    "sp1 = sp[['Date', 'Close']]\n",
    "sp1.head()"
   ]
  },
  {
   "cell_type": "code",
   "execution_count": 86,
   "metadata": {},
   "outputs": [],
   "source": [
    "#new dataframe made up of each of our three existing sets\n",
    "from functools import reduce\n",
    "dfs = [cpi_data, newwages, sp1]\n",
    "\n",
    "df_triple = reduce(lambda left,right: pd.merge(left,right,on='Date'), dfs)"
   ]
  },
  {
   "cell_type": "code",
   "execution_count": 87,
   "metadata": {},
   "outputs": [
    {
     "data": {
      "image/png": "[encoded data removed]",
      "text/plain": [
       "<Figure size 1440x504 with 1 Axes>"
      ]
     },
     "metadata": {
      "needs_background": "light"
     },
     "output_type": "display_data"
    }
   ],
   "source": [
    "ax = df_triple.plot(kind='line', figsize=(20, 7))\n",
    "ax.set_ylabel('S&P, CPI, and Wages')\n",
    "ax.set_xlabel('Dates')\n",
    "ax.grid()"
   ]
  },
  {
   "cell_type": "code",
   "execution_count": 88,
   "metadata": {},
   "outputs": [
    {
     "data": {
      "text/plain": [
       "Text(0.5, 0, 'Dates')"
      ]
     },
     "execution_count": 88,
     "metadata": {},
     "output_type": "execute_result"
    },
    {
     "data": {
      "image/png": "[encoded data removed]",
      "text/plain": [
       "<Figure size 1440x504 with 1 Axes>"
      ]
     },
     "metadata": {
      "needs_background": "light"
     },
     "output_type": "display_data"
    }
   ],
   "source": [
    "ax = sp1.plot(kind='bar', figsize=(20, 7))\n",
    "ax.set_xticklabels(sp1.Date, rotation=45)\n",
    "ax.set_ylabel('S&P Index quotes by month')\n",
    "ax.set_xlabel('Dates')"
   ]
  },
  {
   "cell_type": "code",
   "execution_count": 89,
   "metadata": {},
   "outputs": [
    {
     "name": "stderr",
     "output_type": "stream",
     "text": [
      "C:\\Users\\User\\AppData\\Local\\Temp/ipykernel_13728/2525259433.py:2: UserWarning:\n",
      "\n",
      "FixedFormatter should only be used together with FixedLocator\n",
      "\n"
     ]
    },
    {
     "data": {
      "text/plain": [
       "Text(0.5, 0, 'Dates')"
      ]
     },
     "execution_count": 89,
     "metadata": {},
     "output_type": "execute_result"
    },
    {
     "data": {
      "image/png": "[encoded data removed]",
      "text/plain": [
       "<Figure size 1440x504 with 1 Axes>"
      ]
     },
     "metadata": {
      "needs_background": "light"
     },
     "output_type": "display_data"
    }
   ],
   "source": [
    "ax = merged_data.plot(kind='line', figsize=(20, 7))\n",
    "ax.set_xticklabels(merged_data.Date, rotation=45)\n",
    "ax.set_ylabel('CPI vs. Wages and salaries - 12-month change')\n",
    "ax.set_xlabel('Dates')"
   ]
  },
  {
   "cell_type": "code",
   "execution_count": 115,
   "metadata": {},
   "outputs": [
    {
     "data": {
      "application/vnd.plotly.v1+json": {
       "config": {
        "plotlyServerURL": "https://plot.ly"
       },
       "data": [
        {
         "name": "CPI",
         "type": "scatter",
         "x": [
          "2013Q1",
          "2013Q2",
          "2013Q3",
          "2013Q4",
          "2014Q1",
          "2014Q2",
          "2014Q3",
          "2014Q4",
          "2015Q1",
          "2015Q2",
          "2015Q3",
          "2015Q4",
          "2016Q1",
          "2016Q2",
          "2016Q3",
          "2016Q4",
          "2017Q1",
          "2017Q2",
          "2017Q3",
          "2017Q4",
          "2018Q1",
          "2018Q2",
          "2018Q3",
          "2018Q4",
          "2019Q1",
          "2019Q2",
          "2019Q3",
          "2019Q4",
          "2020Q1",
          "2020Q2",
          "2020Q3",
          "2020Q4",
          "2021Q1",
          "2021Q2",
          "2021Q3",
          "2021Q4",
          "2022Q1",
          "2022Q2"
         ],
         "xaxis": "x",
         "y": [
          232.773,
          233.504,
          234.149,
          233.049,
          236.293,
          238.343,
          238.031,
          234.812,
          236.119,
          238.638,
          237.945,
          236.525,
          238.132,
          241.018,
          241.428,
          241.432,
          243.801,
          244.955,
          246.819,
          246.524,
          249.554,
          251.989,
          252.439,
          251.233,
          254.202,
          256.143,
          256.759,
          256.974,
          258.115,
          257.797,
          260.28,
          260.474,
          264.877,
          271.696,
          274.31,
          278.802,
          287.504,
          296.311
         ],
         "yaxis": "y"
        },
        {
         "mode": "lines",
         "name": "Approximated CPI",
         "type": "scatter",
         "x": [
          "2013Q1",
          "2013Q2",
          "2013Q3",
          "2013Q4",
          "2014Q1",
          "2014Q2",
          "2014Q3",
          "2014Q4",
          "2015Q1",
          "2015Q2",
          "2015Q3",
          "2015Q4",
          "2016Q1",
          "2016Q2",
          "2016Q3",
          "2016Q4",
          "2017Q1",
          "2017Q2",
          "2017Q3",
          "2017Q4",
          "2018Q1",
          "2018Q2",
          "2018Q3",
          "2018Q4",
          "2019Q1",
          "2019Q2",
          "2019Q3",
          "2019Q4",
          "2020Q1",
          "2020Q2",
          "2020Q3",
          "2020Q4",
          "2021Q1",
          "2021Q2",
          "2021Q3",
          "2021Q4",
          "2022Q1",
          "2022Q2"
         ],
         "xaxis": "x",
         "y": [
          231.25869,
          232.3571687775,
          233.40277603699874,
          234.62814061119298,
          235.62531020879055,
          236.74453043228232,
          238.10581148226794,
          239.41539344542042,
          241.09130119953835,
          242.41730335613582,
          243.68999419875553,
          244.969366668299,
          246.1942135016405,
          247.79447588940116,
          249.28124274473757,
          250.7146098905198,
          252.34425485480818,
          253.85832038393704,
          255.50839946643262,
          257.2969582626977,
          259.16236121010223,
          261.04128832887545,
          263.06435831342424,
          265.10310709035326,
          267.0913803935309,
          269.09456574648243,
          271.11277498958106,
          273.14612080200294,
          275.3995762986195,
          277.39622322678446,
          279.2686477335653,
          281.2235282677002,
          283.3327047297079,
          285.81186589609285,
          289.0987023538979,
          292.71243613332166,
          296.37134158498816,
          300.59463320257424
         ],
         "yaxis": "y"
        },
        {
         "mode": "lines",
         "name": "S&P500",
         "type": "scatter",
         "x": [
          "2013Q3",
          "2013Q4",
          "2014Q2",
          "2014Q3",
          "2014Q4",
          "2015Q1",
          "2015Q2",
          "2015Q3",
          "2015Q4",
          "2016Q1",
          "2016Q2",
          "2016Q3",
          "2017Q1",
          "2017Q2",
          "2018Q4",
          "2019Q3",
          "2019Q4",
          "2020Q1",
          "2020Q2",
          "2020Q3",
          "2020Q4",
          "2021Q1",
          "2021Q2",
          "2021Q3",
          "2021Q4",
          "2022Q1",
          "2022Q2"
         ],
         "xaxis": "x2",
         "y": [
          1681.550048828125,
          1848.3599853515625,
          1960.22998046875,
          1972.2900390625,
          2058.89990234375,
          2086.239990234375,
          2063.110107421875,
          1920.030029296875,
          2043.93994140625,
          2063.949951171875,
          2098.860107421875,
          2168.27001953125,
          2368.06005859375,
          2423.409912109375,
          2506.85009765625,
          2976.739990234375,
          3230.780029296875,
          2626.64990234375,
          3100.2900390625,
          3363,
          3756.070068359375,
          3958.550048828125,
          4297.5,
          4307.5400390625,
          4766.18017578125,
          4602.4501953125,
          3785.3798828125
         ],
         "yaxis": "y2"
        }
       ],
       "layout": {
        "template": {
         "data": {
          "bar": [
           {
            "error_x": {
             "color": "#2a3f5f"
            },
            "error_y": {
             "color": "#2a3f5f"
            },
            "marker": {
             "line": {
              "color": "#E5ECF6",
              "width": 0.5
             },
             "pattern": {
              "fillmode": "overlay",
              "size": 10,
              "solidity": 0.2
             }
            },
            "type": "bar"
           }
          ],
          "barpolar": [
           {
            "marker": {
             "line": {
              "color": "#E5ECF6",
              "width": 0.5
             },
             "pattern": {
              "fillmode": "overlay",
              "size": 10,
              "solidity": 0.2
             }
            },
            "type": "barpolar"
           }
          ],
          "carpet": [
           {
            "aaxis": {
             "endlinecolor": "#2a3f5f",
             "gridcolor": "white",
             "linecolor": "white",
             "minorgridcolor": "white",
             "startlinecolor": "#2a3f5f"
            },
            "baxis": {
             "endlinecolor": "#2a3f5f",
             "gridcolor": "white",
             "linecolor": "white",
             "minorgridcolor": "white",
             "startlinecolor": "#2a3f5f"
            },
            "type": "carpet"
           }
          ],
          "choropleth": [
           {
            "colorbar": {
             "outlinewidth": 0,
             "ticks": ""
            },
            "type": "choropleth"
           }
          ],
          "contour": [
           {
            "colorbar": {
             "outlinewidth": 0,
             "ticks": ""
            },
            "colorscale": [
             [
              0,
              "#0d0887"
             ],
             [
              0.1111111111111111,
              "#46039f"
             ],
             [
              0.2222222222222222,
              "#7201a8"
             ],
             [
              0.3333333333333333,
              "#9c179e"
             ],
             [
              0.4444444444444444,
              "#bd3786"
             ],
             [
              0.5555555555555556,
              "#d8576b"
             ],
             [
              0.6666666666666666,
              "#ed7953"
             ],
             [
              0.7777777777777778,
              "#fb9f3a"
             ],
             [
              0.8888888888888888,
              "#fdca26"
             ],
             [
              1,
              "#f0f921"
             ]
            ],
            "type": "contour"
           }
          ],
          "contourcarpet": [
           {
            "colorbar": {
             "outlinewidth": 0,
             "ticks": ""
            },
            "type": "contourcarpet"
           }
          ],
          "heatmap": [
           {
            "colorbar": {
             "outlinewidth": 0,
             "ticks": ""
            },
            "colorscale": [
             [
              0,
              "#0d0887"
             ],
             [
              0.1111111111111111,
              "#46039f"
             ],
             [
              0.2222222222222222,
              "#7201a8"
             ],
             [
              0.3333333333333333,
              "#9c179e"
             ],
             [
              0.4444444444444444,
              "#bd3786"
             ],
             [
              0.5555555555555556,
              "#d8576b"
             ],
             [
              0.6666666666666666,
              "#ed7953"
             ],
             [
              0.7777777777777778,
              "#fb9f3a"
             ],
             [
              0.8888888888888888,
              "#fdca26"
             ],
             [
              1,
              "#f0f921"
             ]
            ],
            "type": "heatmap"
           }
          ],
          "heatmapgl": [
           {
            "colorbar": {
             "outlinewidth": 0,
             "ticks": ""
            },
            "colorscale": [
             [
              0,
              "#0d0887"
             ],
             [
              0.1111111111111111,
              "#46039f"
             ],
             [
              0.2222222222222222,
              "#7201a8"
             ],
             [
              0.3333333333333333,
              "#9c179e"
             ],
             [
              0.4444444444444444,
              "#bd3786"
             ],
             [
              0.5555555555555556,
              "#d8576b"
             ],
             [
              0.6666666666666666,
              "#ed7953"
             ],
             [
              0.7777777777777778,
              "#fb9f3a"
             ],
             [
              0.8888888888888888,
              "#fdca26"
             ],
             [
              1,
              "#f0f921"
             ]
            ],
            "type": "heatmapgl"
           }
          ],
          "histogram": [
           {
            "marker": {
             "pattern": {
              "fillmode": "overlay",
              "size": 10,
              "solidity": 0.2
             }
            },
            "type": "histogram"
           }
          ],
          "histogram2d": [
           {
            "colorbar": {
             "outlinewidth": 0,
             "ticks": ""
            },
            "colorscale": [
             [
              0,
              "#0d0887"
             ],
             [
              0.1111111111111111,
              "#46039f"
             ],
             [
              0.2222222222222222,
              "#7201a8"
             ],
             [
              0.3333333333333333,
              "#9c179e"
             ],
             [
              0.4444444444444444,
              "#bd3786"
             ],
             [
              0.5555555555555556,
              "#d8576b"
             ],
             [
              0.6666666666666666,
              "#ed7953"
             ],
             [
              0.7777777777777778,
              "#fb9f3a"
             ],
             [
              0.8888888888888888,
              "#fdca26"
             ],
             [
              1,
              "#f0f921"
             ]
            ],
            "type": "histogram2d"
           }
          ],
          "histogram2dcontour": [
           {
            "colorbar": {
             "outlinewidth": 0,
             "ticks": ""
            },
            "colorscale": [
             [
              0,
              "#0d0887"
             ],
             [
              0.1111111111111111,
              "#46039f"
             ],
             [
              0.2222222222222222,
              "#7201a8"
             ],
             [
              0.3333333333333333,
              "#9c179e"
             ],
             [
              0.4444444444444444,
              "#bd3786"
             ],
             [
              0.5555555555555556,
              "#d8576b"
             ],
             [
              0.6666666666666666,
              "#ed7953"
             ],
             [
              0.7777777777777778,
              "#fb9f3a"
             ],
             [
              0.8888888888888888,
              "#fdca26"
             ],
             [
              1,
              "#f0f921"
             ]
            ],
            "type": "histogram2dcontour"
           }
          ],
          "mesh3d": [
           {
            "colorbar": {
             "outlinewidth": 0,
             "ticks": ""
            },
            "type": "mesh3d"
           }
          ],
          "parcoords": [
           {
            "line": {
             "colorbar": {
              "outlinewidth": 0,
              "ticks": ""
             }
            },
            "type": "parcoords"
           }
          ],
          "pie": [
           {
            "automargin": true,
            "type": "pie"
           }
          ],
          "scatter": [
           {
            "marker": {
             "colorbar": {
              "outlinewidth": 0,
              "ticks": ""
             }
            },
            "type": "scatter"
           }
          ],
          "scatter3d": [
           {
            "line": {
             "colorbar": {
              "outlinewidth": 0,
              "ticks": ""
             }
            },
            "marker": {
             "colorbar": {
              "outlinewidth": 0,
              "ticks": ""
             }
            },
            "type": "scatter3d"
           }
          ],
          "scattercarpet": [
           {
            "marker": {
             "colorbar": {
              "outlinewidth": 0,
              "ticks": ""
             }
            },
            "type": "scattercarpet"
           }
          ],
          "scattergeo": [
           {
            "marker": {
             "colorbar": {
              "outlinewidth": 0,
              "ticks": ""
             }
            },
            "type": "scattergeo"
           }
          ],
          "scattergl": [
           {
            "marker": {
             "colorbar": {
              "outlinewidth": 0,
              "ticks": ""
             }
            },
            "type": "scattergl"
           }
          ],
          "scattermapbox": [
           {
            "marker": {
             "colorbar": {
              "outlinewidth": 0,
              "ticks": ""
             }
            },
            "type": "scattermapbox"
           }
          ],
          "scatterpolar": [
           {
            "marker": {
             "colorbar": {
              "outlinewidth": 0,
              "ticks": ""
             }
            },
            "type": "scatterpolar"
           }
          ],
          "scatterpolargl": [
           {
            "marker": {
             "colorbar": {
              "outlinewidth": 0,
              "ticks": ""
             }
            },
            "type": "scatterpolargl"
           }
          ],
          "scatterternary": [
           {
            "marker": {
             "colorbar": {
              "outlinewidth": 0,
              "ticks": ""
             }
            },
            "type": "scatterternary"
           }
          ],
          "surface": [
           {
            "colorbar": {
             "outlinewidth": 0,
             "ticks": ""
            },
            "colorscale": [
             [
              0,
              "#0d0887"
             ],
             [
              0.1111111111111111,
              "#46039f"
             ],
             [
              0.2222222222222222,
              "#7201a8"
             ],
             [
              0.3333333333333333,
              "#9c179e"
             ],
             [
              0.4444444444444444,
              "#bd3786"
             ],
             [
              0.5555555555555556,
              "#d8576b"
             ],
             [
              0.6666666666666666,
              "#ed7953"
             ],
             [
              0.7777777777777778,
              "#fb9f3a"
             ],
             [
              0.8888888888888888,
              "#fdca26"
             ],
             [
              1,
              "#f0f921"
             ]
            ],
            "type": "surface"
           }
          ],
          "table": [
           {
            "cells": {
             "fill": {
              "color": "#EBF0F8"
             },
             "line": {
              "color": "white"
             }
            },
            "header": {
             "fill": {
              "color": "#C8D4E3"
             },
             "line": {
              "color": "white"
             }
            },
            "type": "table"
           }
          ]
         },
         "layout": {
          "annotationdefaults": {
           "arrowcolor": "#2a3f5f",
           "arrowhead": 0,
           "arrowwidth": 1
          },
          "autotypenumbers": "strict",
          "coloraxis": {
           "colorbar": {
            "outlinewidth": 0,
            "ticks": ""
           }
          },
          "colorscale": {
           "diverging": [
            [
             0,
             "#8e0152"
            ],
            [
             0.1,
             "#c51b7d"
            ],
            [
             0.2,
             "#de77ae"
            ],
            [
             0.3,
             "#f1b6da"
            ],
            [
             0.4,
             "#fde0ef"
            ],
            [
             0.5,
             "#f7f7f7"
            ],
            [
             0.6,
             "#e6f5d0"
            ],
            [
             0.7,
             "#b8e186"
            ],
            [
             0.8,
             "#7fbc41"
            ],
            [
             0.9,
             "#4d9221"
            ],
            [
             1,
             "#276419"
            ]
           ],
           "sequential": [
            [
             0,
             "#0d0887"
            ],
            [
             0.1111111111111111,
             "#46039f"
            ],
            [
             0.2222222222222222,
             "#7201a8"
            ],
            [
             0.3333333333333333,
             "#9c179e"
            ],
            [
             0.4444444444444444,
             "#bd3786"
            ],
            [
             0.5555555555555556,
             "#d8576b"
            ],
            [
             0.6666666666666666,
             "#ed7953"
            ],
            [
             0.7777777777777778,
             "#fb9f3a"
            ],
            [
             0.8888888888888888,
             "#fdca26"
            ],
            [
             1,
             "#f0f921"
            ]
           ],
           "sequentialminus": [
            [
             0,
             "#0d0887"
            ],
            [
             0.1111111111111111,
             "#46039f"
            ],
            [
             0.2222222222222222,
             "#7201a8"
            ],
            [
             0.3333333333333333,
             "#9c179e"
            ],
            [
             0.4444444444444444,
             "#bd3786"
            ],
            [
             0.5555555555555556,
             "#d8576b"
            ],
            [
             0.6666666666666666,
             "#ed7953"
            ],
            [
             0.7777777777777778,
             "#fb9f3a"
            ],
            [
             0.8888888888888888,
             "#fdca26"
            ],
            [
             1,
             "#f0f921"
            ]
           ]
          },
          "colorway": [
           "#636efa",
           "#EF553B",
           "#00cc96",
           "#ab63fa",
           "#FFA15A",
           "#19d3f3",
           "#FF6692",
           "#B6E880",
           "#FF97FF",
           "#FECB52"
          ],
          "font": {
           "color": "#2a3f5f"
          },
          "geo": {
           "bgcolor": "white",
           "lakecolor": "white",
           "landcolor": "#E5ECF6",
           "showlakes": true,
           "showland": true,
           "subunitcolor": "white"
          },
          "hoverlabel": {
           "align": "left"
          },
          "hovermode": "closest",
          "mapbox": {
           "style": "light"
          },
          "paper_bgcolor": "white",
          "plot_bgcolor": "#E5ECF6",
          "polar": {
           "angularaxis": {
            "gridcolor": "white",
            "linecolor": "white",
            "ticks": ""
           },
           "bgcolor": "#E5ECF6",
           "radialaxis": {
            "gridcolor": "white",
            "linecolor": "white",
            "ticks": ""
           }
          },
          "scene": {
           "xaxis": {
            "backgroundcolor": "#E5ECF6",
            "gridcolor": "white",
            "gridwidth": 2,
            "linecolor": "white",
            "showbackground": true,
            "ticks": "",
            "zerolinecolor": "white"
           },
           "yaxis": {
            "backgroundcolor": "#E5ECF6",
            "gridcolor": "white",
            "gridwidth": 2,
            "linecolor": "white",
            "showbackground": true,
            "ticks": "",
            "zerolinecolor": "white"
           },
           "zaxis": {
            "backgroundcolor": "#E5ECF6",
            "gridcolor": "white",
            "gridwidth": 2,
            "linecolor": "white",
            "showbackground": true,
            "ticks": "",
            "zerolinecolor": "white"
           }
          },
          "shapedefaults": {
           "line": {
            "color": "#2a3f5f"
           }
          },
          "ternary": {
           "aaxis": {
            "gridcolor": "white",
            "linecolor": "white",
            "ticks": ""
           },
           "baxis": {
            "gridcolor": "white",
            "linecolor": "white",
            "ticks": ""
           },
           "bgcolor": "#E5ECF6",
           "caxis": {
            "gridcolor": "white",
            "linecolor": "white",
            "ticks": ""
           }
          },
          "title": {
           "x": 0.05
          },
          "xaxis": {
           "automargin": true,
           "gridcolor": "white",
           "linecolor": "white",
           "ticks": "",
           "title": {
            "standoff": 15
           },
           "zerolinecolor": "white",
           "zerolinewidth": 2
          },
          "yaxis": {
           "automargin": true,
           "gridcolor": "white",
           "linecolor": "white",
           "ticks": "",
           "title": {
            "standoff": 15
           },
           "zerolinecolor": "white",
           "zerolinewidth": 2
          }
         }
        },
        "title": {
         "text": "Consumer Price Index vs Wages vs S&P500"
        },
        "xaxis": {
         "anchor": "y",
         "domain": [
          0,
          1
         ],
         "title": {
          "text": "Quarter"
         }
        },
        "xaxis2": {
         "anchor": "y2",
         "domain": [
          0,
          1
         ]
        },
        "yaxis": {
         "anchor": "x",
         "domain": [
          0.575,
          1
         ],
         "title": {
          "text": "CPI / Approximated CPI (Wages) / S&P500"
         }
        },
        "yaxis2": {
         "anchor": "x2",
         "domain": [
          0,
          0.425
         ]
        }
       }
      }
     },
     "metadata": {},
     "output_type": "display_data"
    }
   ],
   "source": [
    "#alternative plots\n",
    "from plotly.subplots import make_subplots\n",
    "import plotly.graph_objects as go\n",
    "\n",
    "fig = make_subplots(rows=2, cols=1)\n",
    "\n",
    "fig.append_trace(go.Scatter(x=merged_data['Date'], \n",
    "                                y=merged_data['CPI'], \n",
    "                                name = 'CPI'), row=1, col=1)\n",
    "\n",
    "fig.add_trace(go.Scatter(x=merged_data['Date'], \n",
    "                         y=merged_data['Wages'], \n",
    "                         mode='lines', \n",
    "                         name='Approximated CPI'), row=1, col=1)\n",
    "\n",
    "fig.append_trace(go.Scatter(x=sp1['Date'], \n",
    "                            y=sp1['Close'], \n",
    "                            mode='lines', \n",
    "                            name='S&P500'), row=2, col=1)\n",
    "\n",
    "fig.update_layout(title='Consumer Price Index vs Wages vs S&P500', \n",
    "                  xaxis_title='Quarter', \n",
    "                  yaxis_title='CPI / Approximated CPI (Wages) / S&P500')\n",
    "fig.show()\n"
   ]
  },
  {
   "cell_type": "code",
   "execution_count": 129,
   "metadata": {},
   "outputs": [
    {
     "name": "stdout",
     "output_type": "stream",
     "text": [
      "The S&P had a CAGR of 8.45% \n"
     ]
    }
   ],
   "source": [
    "#Calculate rate of increase for both CPI and S&P (CAGR - Compound Annual Growth Rate)\n",
    "\n",
    "#first = 1681.550049 #first price\n",
    "#last = 3785.379883  #last price\n",
    "first = sp1['Close'].iat[0]\n",
    "last = sp1['Close'].iat[-1]\n",
    "periods = 10\n",
    "    \n",
    "def CAGR(first, last, periods):\n",
    "    return (last/first)**(1/periods)-1\n",
    "\n",
    "print ('The S&P had a CAGR of {:.2%} '.format(CAGR(first, last, periods)))\n",
    "\n",
    "#The S&P had a CAGR of 8.45% "
   ]
  },
  {
   "cell_type": "code",
   "execution_count": 128,
   "metadata": {},
   "outputs": [
    {
     "name": "stdout",
     "output_type": "stream",
     "text": [
      "The Consumer Price Index had a CAGR of 2.44% \n"
     ]
    }
   ],
   "source": [
    "#first = 232.773 #first value\n",
    "#last = 296.311  #last value\n",
    "first = merged_data['CPI'].iat[0]\n",
    "last = merged_data['CPI'].iat[-1] \n",
    "periods = 10\n",
    "    \n",
    "def CAGR(first, last, periods):\n",
    "    return (last/first)**(1/periods)-1\n",
    "\n",
    "print ('The Consumer Price Index had a CAGR of {:.2%} '.format(CAGR(first, last, periods)))\n",
    "\n",
    "#The Consumer Price Index had a CAGR of 2.44%"
   ]
  },
  {
   "cell_type": "code",
   "execution_count": 130,
   "metadata": {},
   "outputs": [
    {
     "name": "stdout",
     "output_type": "stream",
     "text": [
      "Wages had a CAGR of 1.32% \n"
     ]
    }
   ],
   "source": [
    "#first = 178.64\n",
    "#last = 281.31\n",
    "first = merged_data['Wages'].iat[0]\n",
    "last = merged_data['Wages'].iat[-1]\n",
    "periods = 20\n",
    "    \n",
    "def CAGR(first, last, periods):\n",
    "    return (last/first)**(1/periods)-1\n",
    "\n",
    "print ('Wages had a CAGR of {:.2%} '.format(CAGR(first, last, periods)))\n",
    "\n",
    "#Wages had a CAGR of 1.32% "
   ]
  },
  {
   "cell_type": "markdown",
   "metadata": {},
   "source": [
    "So our consumer price index growth rate over the past 10 years was 2.449% and the employment wages rate was 1.32%. While, over the same time, the S&P 500 market index increased at an average annual rate of 8.45%!"
   ]
  }
 ],
 "metadata": {
  "kernelspec": {
   "display_name": "Python 3.9.7 ('base')",
   "language": "python",
   "name": "python3"
  },
  "language_info": {
   "codemirror_mode": {
    "name": "ipython",
    "version": 3
   },
   "file_extension": ".py",
   "mimetype": "text/x-python",
   "name": "python",
   "nbconvert_exporter": "python",
   "pygments_lexer": "ipython3",
   "version": "3.9.7"
  },
  "orig_nbformat": 4,
  "vscode": {
   "interpreter": {
    "hash": "ad2bdc8ecc057115af97d19610ffacc2b4e99fae6737bb82f5d7fb13d2f2c186"
   }
  }
 },
 "nbformat": 4,
 "nbformat_minor": 2
}
